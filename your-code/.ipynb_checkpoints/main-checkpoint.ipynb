{
 "cells": [
  {
   "cell_type": "markdown",
   "metadata": {},
   "source": [
    "# Before your start:\n",
    "- Read the README.md file\n",
    "- Comment as much as you can and use the resources in the README.md file\n",
    "- Happy learning!"
   ]
  },
  {
   "cell_type": "code",
   "execution_count": 177,
   "metadata": {},
   "outputs": [],
   "source": [
    "# Import your libraries:\n",
    "\n",
    "%matplotlib inline\n",
    "\n",
    "import numpy as np\n",
    "import pandas as pd\n",
    "from sklearn.preprocessing import LabelEncoder\n",
    "import seaborn as sns\n",
    "import matplotlib.pyplot as plt\n",
    "from sklearn.model_selection import train_test_split\n",
    "from sklearn.neighbors import KNeighborsClassifier\n",
    "from sklearn.impute import SimpleImputer\n",
    "from sklearn.metrics import confusion_matrix, accuracy_score"
   ]
  },
  {
   "cell_type": "markdown",
   "metadata": {},
   "source": [
    "In this lab, we will explore a dataset that describes websites with different features and labels them either benign or malicious . We will use supervised learning algorithms to figure out what feature patterns malicious websites are likely to have and use our model to predict malicious websites.\n",
    "\n",
    "# Challenge 1 - Explore The Dataset\n",
    "\n",
    "Let's start by exploring the dataset. First load the data file:"
   ]
  },
  {
   "cell_type": "code",
   "execution_count": 131,
   "metadata": {},
   "outputs": [],
   "source": [
    "websites = pd.read_csv(\"C:/Users/User/OneDrive/Desktop/Ironhack/week 17/supervised-learning-classification/data/website.csv\")"
   ]
  },
  {
   "cell_type": "code",
   "execution_count": 132,
   "metadata": {},
   "outputs": [],
   "source": [
    "#### Explore the data from an bird's-eye view.\n",
    "\n",
    "#You should already been very familiar with the procedures now so we won't provide the instructions step by step. Reflect on what you did in the previous labs and explore the dataset.\n",
    "\n",
    "#Things you'll be looking for:\n",
    "\n",
    "#* What the dataset looks like?\n",
    "#* What are the data types?\n",
    "#* Which columns contain the features of the websites?\n",
    "#* Which column contains the feature we will predict? What is the code standing for benign vs malicious websites?\n",
    "#* Do we need to transform any of the columns from categorical to ordinal values? If so what are these columns?\n",
    "\n",
    "#Feel free to add additional cells for your explorations. Make sure to comment what you find out. "
   ]
  },
  {
   "cell_type": "code",
   "execution_count": 133,
   "metadata": {},
   "outputs": [
    {
     "data": {
      "text/html": [
       "<div>\n",
       "<style scoped>\n",
       "    .dataframe tbody tr th:only-of-type {\n",
       "        vertical-align: middle;\n",
       "    }\n",
       "\n",
       "    .dataframe tbody tr th {\n",
       "        vertical-align: top;\n",
       "    }\n",
       "\n",
       "    .dataframe thead th {\n",
       "        text-align: right;\n",
       "    }\n",
       "</style>\n",
       "<table border=\"1\" class=\"dataframe\">\n",
       "  <thead>\n",
       "    <tr style=\"text-align: right;\">\n",
       "      <th></th>\n",
       "      <th>URL</th>\n",
       "      <th>URL_LENGTH</th>\n",
       "      <th>NUMBER_SPECIAL_CHARACTERS</th>\n",
       "      <th>CHARSET</th>\n",
       "      <th>SERVER</th>\n",
       "      <th>CONTENT_LENGTH</th>\n",
       "      <th>WHOIS_COUNTRY</th>\n",
       "      <th>WHOIS_STATEPRO</th>\n",
       "      <th>WHOIS_REGDATE</th>\n",
       "      <th>WHOIS_UPDATED_DATE</th>\n",
       "      <th>...</th>\n",
       "      <th>DIST_REMOTE_TCP_PORT</th>\n",
       "      <th>REMOTE_IPS</th>\n",
       "      <th>APP_BYTES</th>\n",
       "      <th>SOURCE_APP_PACKETS</th>\n",
       "      <th>REMOTE_APP_PACKETS</th>\n",
       "      <th>SOURCE_APP_BYTES</th>\n",
       "      <th>REMOTE_APP_BYTES</th>\n",
       "      <th>APP_PACKETS</th>\n",
       "      <th>DNS_QUERY_TIMES</th>\n",
       "      <th>Type</th>\n",
       "    </tr>\n",
       "  </thead>\n",
       "  <tbody>\n",
       "    <tr>\n",
       "      <th>0</th>\n",
       "      <td>M0_109</td>\n",
       "      <td>16</td>\n",
       "      <td>7</td>\n",
       "      <td>iso-8859-1</td>\n",
       "      <td>nginx</td>\n",
       "      <td>263.0</td>\n",
       "      <td>NaN</td>\n",
       "      <td>NaN</td>\n",
       "      <td>10/10/2015 18:21</td>\n",
       "      <td>NaN</td>\n",
       "      <td>...</td>\n",
       "      <td>0</td>\n",
       "      <td>2</td>\n",
       "      <td>700</td>\n",
       "      <td>9</td>\n",
       "      <td>10</td>\n",
       "      <td>1153</td>\n",
       "      <td>832</td>\n",
       "      <td>9</td>\n",
       "      <td>2.0</td>\n",
       "      <td>1</td>\n",
       "    </tr>\n",
       "    <tr>\n",
       "      <th>1</th>\n",
       "      <td>B0_2314</td>\n",
       "      <td>16</td>\n",
       "      <td>6</td>\n",
       "      <td>UTF-8</td>\n",
       "      <td>Apache/2.4.10</td>\n",
       "      <td>15087.0</td>\n",
       "      <td>NaN</td>\n",
       "      <td>NaN</td>\n",
       "      <td>NaN</td>\n",
       "      <td>NaN</td>\n",
       "      <td>...</td>\n",
       "      <td>7</td>\n",
       "      <td>4</td>\n",
       "      <td>1230</td>\n",
       "      <td>17</td>\n",
       "      <td>19</td>\n",
       "      <td>1265</td>\n",
       "      <td>1230</td>\n",
       "      <td>17</td>\n",
       "      <td>0.0</td>\n",
       "      <td>0</td>\n",
       "    </tr>\n",
       "    <tr>\n",
       "      <th>2</th>\n",
       "      <td>B0_911</td>\n",
       "      <td>16</td>\n",
       "      <td>6</td>\n",
       "      <td>us-ascii</td>\n",
       "      <td>Microsoft-HTTPAPI/2.0</td>\n",
       "      <td>324.0</td>\n",
       "      <td>NaN</td>\n",
       "      <td>NaN</td>\n",
       "      <td>NaN</td>\n",
       "      <td>NaN</td>\n",
       "      <td>...</td>\n",
       "      <td>0</td>\n",
       "      <td>0</td>\n",
       "      <td>0</td>\n",
       "      <td>0</td>\n",
       "      <td>0</td>\n",
       "      <td>0</td>\n",
       "      <td>0</td>\n",
       "      <td>0</td>\n",
       "      <td>0.0</td>\n",
       "      <td>0</td>\n",
       "    </tr>\n",
       "    <tr>\n",
       "      <th>3</th>\n",
       "      <td>B0_113</td>\n",
       "      <td>17</td>\n",
       "      <td>6</td>\n",
       "      <td>ISO-8859-1</td>\n",
       "      <td>nginx</td>\n",
       "      <td>162.0</td>\n",
       "      <td>US</td>\n",
       "      <td>AK</td>\n",
       "      <td>7/10/1997 4:00</td>\n",
       "      <td>12/09/2013 0:45</td>\n",
       "      <td>...</td>\n",
       "      <td>22</td>\n",
       "      <td>3</td>\n",
       "      <td>3812</td>\n",
       "      <td>39</td>\n",
       "      <td>37</td>\n",
       "      <td>18784</td>\n",
       "      <td>4380</td>\n",
       "      <td>39</td>\n",
       "      <td>8.0</td>\n",
       "      <td>0</td>\n",
       "    </tr>\n",
       "    <tr>\n",
       "      <th>4</th>\n",
       "      <td>B0_403</td>\n",
       "      <td>17</td>\n",
       "      <td>6</td>\n",
       "      <td>UTF-8</td>\n",
       "      <td>NaN</td>\n",
       "      <td>124140.0</td>\n",
       "      <td>US</td>\n",
       "      <td>TX</td>\n",
       "      <td>12/05/1996 0:00</td>\n",
       "      <td>11/04/2017 0:00</td>\n",
       "      <td>...</td>\n",
       "      <td>2</td>\n",
       "      <td>5</td>\n",
       "      <td>4278</td>\n",
       "      <td>61</td>\n",
       "      <td>62</td>\n",
       "      <td>129889</td>\n",
       "      <td>4586</td>\n",
       "      <td>61</td>\n",
       "      <td>4.0</td>\n",
       "      <td>0</td>\n",
       "    </tr>\n",
       "  </tbody>\n",
       "</table>\n",
       "<p>5 rows × 21 columns</p>\n",
       "</div>"
      ],
      "text/plain": [
       "       URL  URL_LENGTH  NUMBER_SPECIAL_CHARACTERS     CHARSET  \\\n",
       "0   M0_109          16                          7  iso-8859-1   \n",
       "1  B0_2314          16                          6       UTF-8   \n",
       "2   B0_911          16                          6    us-ascii   \n",
       "3   B0_113          17                          6  ISO-8859-1   \n",
       "4   B0_403          17                          6       UTF-8   \n",
       "\n",
       "                  SERVER  CONTENT_LENGTH WHOIS_COUNTRY WHOIS_STATEPRO  \\\n",
       "0                  nginx           263.0           NaN            NaN   \n",
       "1          Apache/2.4.10         15087.0           NaN            NaN   \n",
       "2  Microsoft-HTTPAPI/2.0           324.0           NaN            NaN   \n",
       "3                  nginx           162.0            US             AK   \n",
       "4                    NaN        124140.0            US             TX   \n",
       "\n",
       "      WHOIS_REGDATE WHOIS_UPDATED_DATE  ...  DIST_REMOTE_TCP_PORT  REMOTE_IPS  \\\n",
       "0  10/10/2015 18:21                NaN  ...                     0           2   \n",
       "1               NaN                NaN  ...                     7           4   \n",
       "2               NaN                NaN  ...                     0           0   \n",
       "3    7/10/1997 4:00    12/09/2013 0:45  ...                    22           3   \n",
       "4   12/05/1996 0:00    11/04/2017 0:00  ...                     2           5   \n",
       "\n",
       "   APP_BYTES  SOURCE_APP_PACKETS  REMOTE_APP_PACKETS  SOURCE_APP_BYTES  \\\n",
       "0        700                   9                  10              1153   \n",
       "1       1230                  17                  19              1265   \n",
       "2          0                   0                   0                 0   \n",
       "3       3812                  39                  37             18784   \n",
       "4       4278                  61                  62            129889   \n",
       "\n",
       "   REMOTE_APP_BYTES  APP_PACKETS  DNS_QUERY_TIMES  Type  \n",
       "0               832            9              2.0     1  \n",
       "1              1230           17              0.0     0  \n",
       "2                 0            0              0.0     0  \n",
       "3              4380           39              8.0     0  \n",
       "4              4586           61              4.0     0  \n",
       "\n",
       "[5 rows x 21 columns]"
      ]
     },
     "execution_count": 133,
     "metadata": {},
     "output_type": "execute_result"
    }
   ],
   "source": [
    "websites.head()"
   ]
  },
  {
   "cell_type": "code",
   "execution_count": 134,
   "metadata": {},
   "outputs": [
    {
     "data": {
      "text/plain": [
       "URL                           object\n",
       "URL_LENGTH                     int64\n",
       "NUMBER_SPECIAL_CHARACTERS      int64\n",
       "CHARSET                       object\n",
       "SERVER                        object\n",
       "CONTENT_LENGTH               float64\n",
       "WHOIS_COUNTRY                 object\n",
       "WHOIS_STATEPRO                object\n",
       "WHOIS_REGDATE                 object\n",
       "WHOIS_UPDATED_DATE            object\n",
       "TCP_CONVERSATION_EXCHANGE      int64\n",
       "DIST_REMOTE_TCP_PORT           int64\n",
       "REMOTE_IPS                     int64\n",
       "APP_BYTES                      int64\n",
       "SOURCE_APP_PACKETS             int64\n",
       "REMOTE_APP_PACKETS             int64\n",
       "SOURCE_APP_BYTES               int64\n",
       "REMOTE_APP_BYTES               int64\n",
       "APP_PACKETS                    int64\n",
       "DNS_QUERY_TIMES              float64\n",
       "Type                           int64\n",
       "dtype: object"
      ]
     },
     "execution_count": 134,
     "metadata": {},
     "output_type": "execute_result"
    }
   ],
   "source": [
    "websites.dtypes"
   ]
  },
  {
   "cell_type": "code",
   "execution_count": 135,
   "metadata": {},
   "outputs": [
    {
     "data": {
      "text/plain": [
       "Index(['URL', 'URL_LENGTH', 'NUMBER_SPECIAL_CHARACTERS', 'CHARSET', 'SERVER',\n",
       "       'CONTENT_LENGTH', 'WHOIS_COUNTRY', 'WHOIS_STATEPRO', 'WHOIS_REGDATE',\n",
       "       'WHOIS_UPDATED_DATE', 'TCP_CONVERSATION_EXCHANGE',\n",
       "       'DIST_REMOTE_TCP_PORT', 'REMOTE_IPS', 'APP_BYTES', 'SOURCE_APP_PACKETS',\n",
       "       'REMOTE_APP_PACKETS', 'SOURCE_APP_BYTES', 'REMOTE_APP_BYTES',\n",
       "       'APP_PACKETS', 'DNS_QUERY_TIMES'],\n",
       "      dtype='object')"
      ]
     },
     "execution_count": 135,
     "metadata": {},
     "output_type": "execute_result"
    }
   ],
   "source": [
    "# List all columns (websites features) excluding the target variable 'Type'\n",
    "feature_columns = websites.columns[websites.columns != 'Type']\n",
    "feature_columns"
   ]
  },
  {
   "cell_type": "code",
   "execution_count": 136,
   "metadata": {},
   "outputs": [
    {
     "name": "stdout",
     "output_type": "stream",
     "text": [
      "Target column: Type\n",
      "Benign websites: 0\n",
      "Malicious websites: 1\n"
     ]
    }
   ],
   "source": [
    "# The column that contains the feature to predict\n",
    "target_column = 'Type'\n",
    "\n",
    "# The code meanings\n",
    "benign_code = 0\n",
    "malicious_code = 1\n",
    "\n",
    "print(f\"Target column: {target_column}\")\n",
    "print(f\"Benign websites: {benign_code}\")\n",
    "print(f\"Malicious websites: {malicious_code}\")"
   ]
  },
  {
   "cell_type": "code",
   "execution_count": 137,
   "metadata": {},
   "outputs": [],
   "source": [
    "# Columns that might need transformation\n",
    "#'CHARSET', 'SERVER', 'WHOIS_COUNTRY', 'WHOIS_STATEPRO', 'WHOIS_REGDATE', 'WHOIS_UPDATED_DATE'"
   ]
  },
  {
   "cell_type": "markdown",
   "metadata": {},
   "source": [
    "#### Next, evaluate if the columns in this dataset are strongly correlated.\n",
    "\n",
    "If our dataset has strongly correlated columns, we need to choose certain ML algorithms instead of others. We need to evaluate this for our dataset now.\n",
    "\n",
    "Luckily, most of the columns in this dataset are ordinal which makes things a lot easier for us. In the next cells below, evaluate the level of collinearity of the data.\n",
    "\n",
    "We provide some general directions for you to consult in order to complete this step:\n",
    "\n",
    "1. You will create a correlation matrix using the numeric columns in the dataset.\n",
    "\n",
    "1. Create a heatmap using `seaborn` to visualize which columns have high collinearity.\n",
    "\n",
    "1. Comment on which columns you might need to remove due to high collinearity."
   ]
  },
  {
   "cell_type": "code",
   "execution_count": 138,
   "metadata": {},
   "outputs": [
    {
     "data": {
      "text/html": [
       "<div>\n",
       "<style scoped>\n",
       "    .dataframe tbody tr th:only-of-type {\n",
       "        vertical-align: middle;\n",
       "    }\n",
       "\n",
       "    .dataframe tbody tr th {\n",
       "        vertical-align: top;\n",
       "    }\n",
       "\n",
       "    .dataframe thead th {\n",
       "        text-align: right;\n",
       "    }\n",
       "</style>\n",
       "<table border=\"1\" class=\"dataframe\">\n",
       "  <thead>\n",
       "    <tr style=\"text-align: right;\">\n",
       "      <th></th>\n",
       "      <th>URL_LENGTH</th>\n",
       "      <th>NUMBER_SPECIAL_CHARACTERS</th>\n",
       "      <th>CONTENT_LENGTH</th>\n",
       "      <th>TCP_CONVERSATION_EXCHANGE</th>\n",
       "      <th>DIST_REMOTE_TCP_PORT</th>\n",
       "      <th>REMOTE_IPS</th>\n",
       "      <th>APP_BYTES</th>\n",
       "      <th>SOURCE_APP_PACKETS</th>\n",
       "      <th>REMOTE_APP_PACKETS</th>\n",
       "      <th>SOURCE_APP_BYTES</th>\n",
       "      <th>REMOTE_APP_BYTES</th>\n",
       "      <th>APP_PACKETS</th>\n",
       "      <th>DNS_QUERY_TIMES</th>\n",
       "      <th>Type</th>\n",
       "    </tr>\n",
       "  </thead>\n",
       "  <tbody>\n",
       "    <tr>\n",
       "      <th>URL_LENGTH</th>\n",
       "      <td>1.000000</td>\n",
       "      <td>0.917986</td>\n",
       "      <td>0.129745</td>\n",
       "      <td>-0.038407</td>\n",
       "      <td>-0.039839</td>\n",
       "      <td>-0.046367</td>\n",
       "      <td>-0.026446</td>\n",
       "      <td>-0.042264</td>\n",
       "      <td>-0.033779</td>\n",
       "      <td>-0.014857</td>\n",
       "      <td>-0.026686</td>\n",
       "      <td>-0.042264</td>\n",
       "      <td>-0.068582</td>\n",
       "      <td>0.162104</td>\n",
       "    </tr>\n",
       "    <tr>\n",
       "      <th>NUMBER_SPECIAL_CHARACTERS</th>\n",
       "      <td>0.917986</td>\n",
       "      <td>1.000000</td>\n",
       "      <td>0.214225</td>\n",
       "      <td>-0.037459</td>\n",
       "      <td>-0.042619</td>\n",
       "      <td>-0.047103</td>\n",
       "      <td>-0.023914</td>\n",
       "      <td>-0.040096</td>\n",
       "      <td>-0.030597</td>\n",
       "      <td>-0.014376</td>\n",
       "      <td>-0.024098</td>\n",
       "      <td>-0.040096</td>\n",
       "      <td>-0.050048</td>\n",
       "      <td>0.280897</td>\n",
       "    </tr>\n",
       "    <tr>\n",
       "      <th>CONTENT_LENGTH</th>\n",
       "      <td>0.129745</td>\n",
       "      <td>0.214225</td>\n",
       "      <td>1.000000</td>\n",
       "      <td>0.078451</td>\n",
       "      <td>-0.000381</td>\n",
       "      <td>0.004774</td>\n",
       "      <td>0.051202</td>\n",
       "      <td>0.074142</td>\n",
       "      <td>0.091077</td>\n",
       "      <td>0.100094</td>\n",
       "      <td>0.047595</td>\n",
       "      <td>0.074142</td>\n",
       "      <td>-0.045644</td>\n",
       "      <td>-0.090852</td>\n",
       "    </tr>\n",
       "    <tr>\n",
       "      <th>TCP_CONVERSATION_EXCHANGE</th>\n",
       "      <td>-0.038407</td>\n",
       "      <td>-0.037459</td>\n",
       "      <td>0.078451</td>\n",
       "      <td>1.000000</td>\n",
       "      <td>0.555188</td>\n",
       "      <td>0.331080</td>\n",
       "      <td>0.457320</td>\n",
       "      <td>0.997796</td>\n",
       "      <td>0.990848</td>\n",
       "      <td>0.865580</td>\n",
       "      <td>0.458702</td>\n",
       "      <td>0.997796</td>\n",
       "      <td>0.349832</td>\n",
       "      <td>-0.040202</td>\n",
       "    </tr>\n",
       "    <tr>\n",
       "      <th>DIST_REMOTE_TCP_PORT</th>\n",
       "      <td>-0.039839</td>\n",
       "      <td>-0.042619</td>\n",
       "      <td>-0.000381</td>\n",
       "      <td>0.555188</td>\n",
       "      <td>1.000000</td>\n",
       "      <td>0.210188</td>\n",
       "      <td>0.780238</td>\n",
       "      <td>0.558612</td>\n",
       "      <td>0.591188</td>\n",
       "      <td>0.313359</td>\n",
       "      <td>0.781212</td>\n",
       "      <td>0.558612</td>\n",
       "      <td>0.259942</td>\n",
       "      <td>-0.082925</td>\n",
       "    </tr>\n",
       "    <tr>\n",
       "      <th>REMOTE_IPS</th>\n",
       "      <td>-0.046367</td>\n",
       "      <td>-0.047103</td>\n",
       "      <td>0.004774</td>\n",
       "      <td>0.331080</td>\n",
       "      <td>0.210188</td>\n",
       "      <td>1.000000</td>\n",
       "      <td>0.023126</td>\n",
       "      <td>0.361104</td>\n",
       "      <td>0.304683</td>\n",
       "      <td>0.171651</td>\n",
       "      <td>0.025324</td>\n",
       "      <td>0.361104</td>\n",
       "      <td>0.548189</td>\n",
       "      <td>-0.078783</td>\n",
       "    </tr>\n",
       "    <tr>\n",
       "      <th>APP_BYTES</th>\n",
       "      <td>-0.026446</td>\n",
       "      <td>-0.023914</td>\n",
       "      <td>0.051202</td>\n",
       "      <td>0.457320</td>\n",
       "      <td>0.780238</td>\n",
       "      <td>0.023126</td>\n",
       "      <td>1.000000</td>\n",
       "      <td>0.445822</td>\n",
       "      <td>0.468999</td>\n",
       "      <td>0.074464</td>\n",
       "      <td>0.999992</td>\n",
       "      <td>0.445822</td>\n",
       "      <td>0.012221</td>\n",
       "      <td>-0.011262</td>\n",
       "    </tr>\n",
       "    <tr>\n",
       "      <th>SOURCE_APP_PACKETS</th>\n",
       "      <td>-0.042264</td>\n",
       "      <td>-0.040096</td>\n",
       "      <td>0.074142</td>\n",
       "      <td>0.997796</td>\n",
       "      <td>0.558612</td>\n",
       "      <td>0.361104</td>\n",
       "      <td>0.445822</td>\n",
       "      <td>1.000000</td>\n",
       "      <td>0.989285</td>\n",
       "      <td>0.857495</td>\n",
       "      <td>0.447448</td>\n",
       "      <td>1.000000</td>\n",
       "      <td>0.410843</td>\n",
       "      <td>-0.034414</td>\n",
       "    </tr>\n",
       "    <tr>\n",
       "      <th>REMOTE_APP_PACKETS</th>\n",
       "      <td>-0.033779</td>\n",
       "      <td>-0.030597</td>\n",
       "      <td>0.091077</td>\n",
       "      <td>0.990848</td>\n",
       "      <td>0.591188</td>\n",
       "      <td>0.304683</td>\n",
       "      <td>0.468999</td>\n",
       "      <td>0.989285</td>\n",
       "      <td>1.000000</td>\n",
       "      <td>0.880555</td>\n",
       "      <td>0.470401</td>\n",
       "      <td>0.989285</td>\n",
       "      <td>0.355716</td>\n",
       "      <td>-0.032897</td>\n",
       "    </tr>\n",
       "    <tr>\n",
       "      <th>SOURCE_APP_BYTES</th>\n",
       "      <td>-0.014857</td>\n",
       "      <td>-0.014376</td>\n",
       "      <td>0.100094</td>\n",
       "      <td>0.865580</td>\n",
       "      <td>0.313359</td>\n",
       "      <td>0.171651</td>\n",
       "      <td>0.074464</td>\n",
       "      <td>0.857495</td>\n",
       "      <td>0.880555</td>\n",
       "      <td>1.000000</td>\n",
       "      <td>0.075328</td>\n",
       "      <td>0.857495</td>\n",
       "      <td>0.215285</td>\n",
       "      <td>-0.043852</td>\n",
       "    </tr>\n",
       "    <tr>\n",
       "      <th>REMOTE_APP_BYTES</th>\n",
       "      <td>-0.026686</td>\n",
       "      <td>-0.024098</td>\n",
       "      <td>0.047595</td>\n",
       "      <td>0.458702</td>\n",
       "      <td>0.781212</td>\n",
       "      <td>0.025324</td>\n",
       "      <td>0.999992</td>\n",
       "      <td>0.447448</td>\n",
       "      <td>0.470401</td>\n",
       "      <td>0.075328</td>\n",
       "      <td>1.000000</td>\n",
       "      <td>0.447448</td>\n",
       "      <td>0.016215</td>\n",
       "      <td>-0.011004</td>\n",
       "    </tr>\n",
       "    <tr>\n",
       "      <th>APP_PACKETS</th>\n",
       "      <td>-0.042264</td>\n",
       "      <td>-0.040096</td>\n",
       "      <td>0.074142</td>\n",
       "      <td>0.997796</td>\n",
       "      <td>0.558612</td>\n",
       "      <td>0.361104</td>\n",
       "      <td>0.445822</td>\n",
       "      <td>1.000000</td>\n",
       "      <td>0.989285</td>\n",
       "      <td>0.857495</td>\n",
       "      <td>0.447448</td>\n",
       "      <td>1.000000</td>\n",
       "      <td>0.410843</td>\n",
       "      <td>-0.034414</td>\n",
       "    </tr>\n",
       "    <tr>\n",
       "      <th>DNS_QUERY_TIMES</th>\n",
       "      <td>-0.068582</td>\n",
       "      <td>-0.050048</td>\n",
       "      <td>-0.045644</td>\n",
       "      <td>0.349832</td>\n",
       "      <td>0.259942</td>\n",
       "      <td>0.548189</td>\n",
       "      <td>0.012221</td>\n",
       "      <td>0.410843</td>\n",
       "      <td>0.355716</td>\n",
       "      <td>0.215285</td>\n",
       "      <td>0.016215</td>\n",
       "      <td>0.410843</td>\n",
       "      <td>1.000000</td>\n",
       "      <td>0.068753</td>\n",
       "    </tr>\n",
       "    <tr>\n",
       "      <th>Type</th>\n",
       "      <td>0.162104</td>\n",
       "      <td>0.280897</td>\n",
       "      <td>-0.090852</td>\n",
       "      <td>-0.040202</td>\n",
       "      <td>-0.082925</td>\n",
       "      <td>-0.078783</td>\n",
       "      <td>-0.011262</td>\n",
       "      <td>-0.034414</td>\n",
       "      <td>-0.032897</td>\n",
       "      <td>-0.043852</td>\n",
       "      <td>-0.011004</td>\n",
       "      <td>-0.034414</td>\n",
       "      <td>0.068753</td>\n",
       "      <td>1.000000</td>\n",
       "    </tr>\n",
       "  </tbody>\n",
       "</table>\n",
       "</div>"
      ],
      "text/plain": [
       "                           URL_LENGTH  NUMBER_SPECIAL_CHARACTERS  \\\n",
       "URL_LENGTH                   1.000000                   0.917986   \n",
       "NUMBER_SPECIAL_CHARACTERS    0.917986                   1.000000   \n",
       "CONTENT_LENGTH               0.129745                   0.214225   \n",
       "TCP_CONVERSATION_EXCHANGE   -0.038407                  -0.037459   \n",
       "DIST_REMOTE_TCP_PORT        -0.039839                  -0.042619   \n",
       "REMOTE_IPS                  -0.046367                  -0.047103   \n",
       "APP_BYTES                   -0.026446                  -0.023914   \n",
       "SOURCE_APP_PACKETS          -0.042264                  -0.040096   \n",
       "REMOTE_APP_PACKETS          -0.033779                  -0.030597   \n",
       "SOURCE_APP_BYTES            -0.014857                  -0.014376   \n",
       "REMOTE_APP_BYTES            -0.026686                  -0.024098   \n",
       "APP_PACKETS                 -0.042264                  -0.040096   \n",
       "DNS_QUERY_TIMES             -0.068582                  -0.050048   \n",
       "Type                         0.162104                   0.280897   \n",
       "\n",
       "                           CONTENT_LENGTH  TCP_CONVERSATION_EXCHANGE  \\\n",
       "URL_LENGTH                       0.129745                  -0.038407   \n",
       "NUMBER_SPECIAL_CHARACTERS        0.214225                  -0.037459   \n",
       "CONTENT_LENGTH                   1.000000                   0.078451   \n",
       "TCP_CONVERSATION_EXCHANGE        0.078451                   1.000000   \n",
       "DIST_REMOTE_TCP_PORT            -0.000381                   0.555188   \n",
       "REMOTE_IPS                       0.004774                   0.331080   \n",
       "APP_BYTES                        0.051202                   0.457320   \n",
       "SOURCE_APP_PACKETS               0.074142                   0.997796   \n",
       "REMOTE_APP_PACKETS               0.091077                   0.990848   \n",
       "SOURCE_APP_BYTES                 0.100094                   0.865580   \n",
       "REMOTE_APP_BYTES                 0.047595                   0.458702   \n",
       "APP_PACKETS                      0.074142                   0.997796   \n",
       "DNS_QUERY_TIMES                 -0.045644                   0.349832   \n",
       "Type                            -0.090852                  -0.040202   \n",
       "\n",
       "                           DIST_REMOTE_TCP_PORT  REMOTE_IPS  APP_BYTES  \\\n",
       "URL_LENGTH                            -0.039839   -0.046367  -0.026446   \n",
       "NUMBER_SPECIAL_CHARACTERS             -0.042619   -0.047103  -0.023914   \n",
       "CONTENT_LENGTH                        -0.000381    0.004774   0.051202   \n",
       "TCP_CONVERSATION_EXCHANGE              0.555188    0.331080   0.457320   \n",
       "DIST_REMOTE_TCP_PORT                   1.000000    0.210188   0.780238   \n",
       "REMOTE_IPS                             0.210188    1.000000   0.023126   \n",
       "APP_BYTES                              0.780238    0.023126   1.000000   \n",
       "SOURCE_APP_PACKETS                     0.558612    0.361104   0.445822   \n",
       "REMOTE_APP_PACKETS                     0.591188    0.304683   0.468999   \n",
       "SOURCE_APP_BYTES                       0.313359    0.171651   0.074464   \n",
       "REMOTE_APP_BYTES                       0.781212    0.025324   0.999992   \n",
       "APP_PACKETS                            0.558612    0.361104   0.445822   \n",
       "DNS_QUERY_TIMES                        0.259942    0.548189   0.012221   \n",
       "Type                                  -0.082925   -0.078783  -0.011262   \n",
       "\n",
       "                           SOURCE_APP_PACKETS  REMOTE_APP_PACKETS  \\\n",
       "URL_LENGTH                          -0.042264           -0.033779   \n",
       "NUMBER_SPECIAL_CHARACTERS           -0.040096           -0.030597   \n",
       "CONTENT_LENGTH                       0.074142            0.091077   \n",
       "TCP_CONVERSATION_EXCHANGE            0.997796            0.990848   \n",
       "DIST_REMOTE_TCP_PORT                 0.558612            0.591188   \n",
       "REMOTE_IPS                           0.361104            0.304683   \n",
       "APP_BYTES                            0.445822            0.468999   \n",
       "SOURCE_APP_PACKETS                   1.000000            0.989285   \n",
       "REMOTE_APP_PACKETS                   0.989285            1.000000   \n",
       "SOURCE_APP_BYTES                     0.857495            0.880555   \n",
       "REMOTE_APP_BYTES                     0.447448            0.470401   \n",
       "APP_PACKETS                          1.000000            0.989285   \n",
       "DNS_QUERY_TIMES                      0.410843            0.355716   \n",
       "Type                                -0.034414           -0.032897   \n",
       "\n",
       "                           SOURCE_APP_BYTES  REMOTE_APP_BYTES  APP_PACKETS  \\\n",
       "URL_LENGTH                        -0.014857         -0.026686    -0.042264   \n",
       "NUMBER_SPECIAL_CHARACTERS         -0.014376         -0.024098    -0.040096   \n",
       "CONTENT_LENGTH                     0.100094          0.047595     0.074142   \n",
       "TCP_CONVERSATION_EXCHANGE          0.865580          0.458702     0.997796   \n",
       "DIST_REMOTE_TCP_PORT               0.313359          0.781212     0.558612   \n",
       "REMOTE_IPS                         0.171651          0.025324     0.361104   \n",
       "APP_BYTES                          0.074464          0.999992     0.445822   \n",
       "SOURCE_APP_PACKETS                 0.857495          0.447448     1.000000   \n",
       "REMOTE_APP_PACKETS                 0.880555          0.470401     0.989285   \n",
       "SOURCE_APP_BYTES                   1.000000          0.075328     0.857495   \n",
       "REMOTE_APP_BYTES                   0.075328          1.000000     0.447448   \n",
       "APP_PACKETS                        0.857495          0.447448     1.000000   \n",
       "DNS_QUERY_TIMES                    0.215285          0.016215     0.410843   \n",
       "Type                              -0.043852         -0.011004    -0.034414   \n",
       "\n",
       "                           DNS_QUERY_TIMES      Type  \n",
       "URL_LENGTH                       -0.068582  0.162104  \n",
       "NUMBER_SPECIAL_CHARACTERS        -0.050048  0.280897  \n",
       "CONTENT_LENGTH                   -0.045644 -0.090852  \n",
       "TCP_CONVERSATION_EXCHANGE         0.349832 -0.040202  \n",
       "DIST_REMOTE_TCP_PORT              0.259942 -0.082925  \n",
       "REMOTE_IPS                        0.548189 -0.078783  \n",
       "APP_BYTES                         0.012221 -0.011262  \n",
       "SOURCE_APP_PACKETS                0.410843 -0.034414  \n",
       "REMOTE_APP_PACKETS                0.355716 -0.032897  \n",
       "SOURCE_APP_BYTES                  0.215285 -0.043852  \n",
       "REMOTE_APP_BYTES                  0.016215 -0.011004  \n",
       "APP_PACKETS                       0.410843 -0.034414  \n",
       "DNS_QUERY_TIMES                   1.000000  0.068753  \n",
       "Type                              0.068753  1.000000  "
      ]
     },
     "execution_count": 138,
     "metadata": {},
     "output_type": "execute_result"
    }
   ],
   "source": [
    "# Exclude non-numeric columns\n",
    "numeric_websites = websites.select_dtypes(include=['int64', 'float64'])\n",
    "\n",
    "# Create a correlation matrix using the numeric columns \n",
    "correlation_matrix = numeric_websites.corr()\n",
    "\n",
    "correlation_matrix\n"
   ]
  },
  {
   "cell_type": "code",
   "execution_count": 139,
   "metadata": {},
   "outputs": [
    {
     "data": {
      "image/png": "[encoded data removed]",
      "text/plain": [
       "<Figure size 1000x800 with 2 Axes>"
      ]
     },
     "metadata": {},
     "output_type": "display_data"
    }
   ],
   "source": [
    "# Set up the matplotlib figure\n",
    "plt.figure(figsize=(10, 8))\n",
    "\n",
    "# Generate the heatmap for the correlation matrix to visualize collinearity\n",
    "sns.heatmap(correlation_matrix, annot=True, fmt=\".2f\", cmap=\"coolwarm\", linewidths=0.5)\n",
    "\n",
    "# Add title for clarity\n",
    "plt.title(\"Heatmap of Correlation Matrix\")\n",
    "plt.show()"
   ]
  },
  {
   "cell_type": "code",
   "execution_count": 140,
   "metadata": {},
   "outputs": [],
   "source": [
    "#URL_LENGTH and NUMBER_SPECIAL_CHARACTERS:Correlation: 0.92\n",
    "#TCP_CONVERSATION_EXCHANGE and SOURCE_APP_PACKETS:Correlation: 0.998\n",
    "#TCP_CONVERSATION_EXCHANGE and REMOTE_APP_PACKETS:Correlation: 0.991\n",
    "#SOURCE_APP_PACKETS and REMOTE_APP_PACKETS:Correlation: 0.989\n",
    "#APP_BYTES and REMOTE_APP_BYTES:Correlation: 1.00\n",
    "#APP_BYTES and APP_PACKETS:Correlation: 0.78\n",
    "#SOURCE_APP_PACKETS and APP_PACKETS:Correlation: 1.00\n",
    "#SOURCE_APP_PACKETS and TCP_CONVERSATION_EXCHANGE:Correlation: 0.998\n",
    "#REMOTE_APP_PACKETS and APP_PACKETS:Correlation: 0.989\n",
    "\n",
    "#To remove: APP_BYTES,REMOTE_APP_PACKETS,NUMBER_SPECIAL_CHARACTERS, SOURCE_APP_PACKETS"
   ]
  },
  {
   "cell_type": "markdown",
   "metadata": {},
   "source": [
    "# Challenge 2 - Remove Column Collinearity.\n",
    "\n",
    "From the heatmap you created, you should have seen at least 3 columns that can be removed due to high collinearity. Remove these columns from the dataset.\n",
    "\n",
    "Note that you should remove as few columns as you can. You don't have to remove all the columns at once. But instead, try removing one column, then produce the heatmap again to determine if additional columns should be removed. As long as the dataset no longer contains columns that are correlated for over 90%, you can stop. Also, keep in mind when two columns have high collinearity, you only need to remove one of them but not both.\n",
    "\n",
    "In the cells below, remove as few columns as you can to eliminate the high collinearity in the dataset. Make sure to comment on your way so that the instructional team can learn about your thinking process which allows them to give feedback. At the end, print the heatmap again."
   ]
  },
  {
   "cell_type": "code",
   "execution_count": 141,
   "metadata": {},
   "outputs": [
    {
     "data": {
      "text/html": [
       "<div>\n",
       "<style scoped>\n",
       "    .dataframe tbody tr th:only-of-type {\n",
       "        vertical-align: middle;\n",
       "    }\n",
       "\n",
       "    .dataframe tbody tr th {\n",
       "        vertical-align: top;\n",
       "    }\n",
       "\n",
       "    .dataframe thead th {\n",
       "        text-align: right;\n",
       "    }\n",
       "</style>\n",
       "<table border=\"1\" class=\"dataframe\">\n",
       "  <thead>\n",
       "    <tr style=\"text-align: right;\">\n",
       "      <th></th>\n",
       "      <th>URL</th>\n",
       "      <th>URL_LENGTH</th>\n",
       "      <th>CHARSET</th>\n",
       "      <th>SERVER</th>\n",
       "      <th>CONTENT_LENGTH</th>\n",
       "      <th>WHOIS_COUNTRY</th>\n",
       "      <th>WHOIS_STATEPRO</th>\n",
       "      <th>WHOIS_REGDATE</th>\n",
       "      <th>WHOIS_UPDATED_DATE</th>\n",
       "      <th>TCP_CONVERSATION_EXCHANGE</th>\n",
       "      <th>DIST_REMOTE_TCP_PORT</th>\n",
       "      <th>REMOTE_IPS</th>\n",
       "      <th>SOURCE_APP_BYTES</th>\n",
       "      <th>REMOTE_APP_BYTES</th>\n",
       "      <th>APP_PACKETS</th>\n",
       "      <th>DNS_QUERY_TIMES</th>\n",
       "      <th>Type</th>\n",
       "    </tr>\n",
       "  </thead>\n",
       "  <tbody>\n",
       "    <tr>\n",
       "      <th>0</th>\n",
       "      <td>M0_109</td>\n",
       "      <td>16</td>\n",
       "      <td>iso-8859-1</td>\n",
       "      <td>nginx</td>\n",
       "      <td>263.0</td>\n",
       "      <td>NaN</td>\n",
       "      <td>NaN</td>\n",
       "      <td>10/10/2015 18:21</td>\n",
       "      <td>NaN</td>\n",
       "      <td>7</td>\n",
       "      <td>0</td>\n",
       "      <td>2</td>\n",
       "      <td>1153</td>\n",
       "      <td>832</td>\n",
       "      <td>9</td>\n",
       "      <td>2.0</td>\n",
       "      <td>1</td>\n",
       "    </tr>\n",
       "    <tr>\n",
       "      <th>1</th>\n",
       "      <td>B0_2314</td>\n",
       "      <td>16</td>\n",
       "      <td>UTF-8</td>\n",
       "      <td>Apache/2.4.10</td>\n",
       "      <td>15087.0</td>\n",
       "      <td>NaN</td>\n",
       "      <td>NaN</td>\n",
       "      <td>NaN</td>\n",
       "      <td>NaN</td>\n",
       "      <td>17</td>\n",
       "      <td>7</td>\n",
       "      <td>4</td>\n",
       "      <td>1265</td>\n",
       "      <td>1230</td>\n",
       "      <td>17</td>\n",
       "      <td>0.0</td>\n",
       "      <td>0</td>\n",
       "    </tr>\n",
       "    <tr>\n",
       "      <th>2</th>\n",
       "      <td>B0_911</td>\n",
       "      <td>16</td>\n",
       "      <td>us-ascii</td>\n",
       "      <td>Microsoft-HTTPAPI/2.0</td>\n",
       "      <td>324.0</td>\n",
       "      <td>NaN</td>\n",
       "      <td>NaN</td>\n",
       "      <td>NaN</td>\n",
       "      <td>NaN</td>\n",
       "      <td>0</td>\n",
       "      <td>0</td>\n",
       "      <td>0</td>\n",
       "      <td>0</td>\n",
       "      <td>0</td>\n",
       "      <td>0</td>\n",
       "      <td>0.0</td>\n",
       "      <td>0</td>\n",
       "    </tr>\n",
       "    <tr>\n",
       "      <th>3</th>\n",
       "      <td>B0_113</td>\n",
       "      <td>17</td>\n",
       "      <td>ISO-8859-1</td>\n",
       "      <td>nginx</td>\n",
       "      <td>162.0</td>\n",
       "      <td>US</td>\n",
       "      <td>AK</td>\n",
       "      <td>7/10/1997 4:00</td>\n",
       "      <td>12/09/2013 0:45</td>\n",
       "      <td>31</td>\n",
       "      <td>22</td>\n",
       "      <td>3</td>\n",
       "      <td>18784</td>\n",
       "      <td>4380</td>\n",
       "      <td>39</td>\n",
       "      <td>8.0</td>\n",
       "      <td>0</td>\n",
       "    </tr>\n",
       "    <tr>\n",
       "      <th>4</th>\n",
       "      <td>B0_403</td>\n",
       "      <td>17</td>\n",
       "      <td>UTF-8</td>\n",
       "      <td>NaN</td>\n",
       "      <td>124140.0</td>\n",
       "      <td>US</td>\n",
       "      <td>TX</td>\n",
       "      <td>12/05/1996 0:00</td>\n",
       "      <td>11/04/2017 0:00</td>\n",
       "      <td>57</td>\n",
       "      <td>2</td>\n",
       "      <td>5</td>\n",
       "      <td>129889</td>\n",
       "      <td>4586</td>\n",
       "      <td>61</td>\n",
       "      <td>4.0</td>\n",
       "      <td>0</td>\n",
       "    </tr>\n",
       "  </tbody>\n",
       "</table>\n",
       "</div>"
      ],
      "text/plain": [
       "       URL  URL_LENGTH     CHARSET                 SERVER  CONTENT_LENGTH  \\\n",
       "0   M0_109          16  iso-8859-1                  nginx           263.0   \n",
       "1  B0_2314          16       UTF-8          Apache/2.4.10         15087.0   \n",
       "2   B0_911          16    us-ascii  Microsoft-HTTPAPI/2.0           324.0   \n",
       "3   B0_113          17  ISO-8859-1                  nginx           162.0   \n",
       "4   B0_403          17       UTF-8                    NaN        124140.0   \n",
       "\n",
       "  WHOIS_COUNTRY WHOIS_STATEPRO     WHOIS_REGDATE WHOIS_UPDATED_DATE  \\\n",
       "0           NaN            NaN  10/10/2015 18:21                NaN   \n",
       "1           NaN            NaN               NaN                NaN   \n",
       "2           NaN            NaN               NaN                NaN   \n",
       "3            US             AK    7/10/1997 4:00    12/09/2013 0:45   \n",
       "4            US             TX   12/05/1996 0:00    11/04/2017 0:00   \n",
       "\n",
       "   TCP_CONVERSATION_EXCHANGE  DIST_REMOTE_TCP_PORT  REMOTE_IPS  \\\n",
       "0                          7                     0           2   \n",
       "1                         17                     7           4   \n",
       "2                          0                     0           0   \n",
       "3                         31                    22           3   \n",
       "4                         57                     2           5   \n",
       "\n",
       "   SOURCE_APP_BYTES  REMOTE_APP_BYTES  APP_PACKETS  DNS_QUERY_TIMES  Type  \n",
       "0              1153               832            9              2.0     1  \n",
       "1              1265              1230           17              0.0     0  \n",
       "2                 0                 0            0              0.0     0  \n",
       "3             18784              4380           39              8.0     0  \n",
       "4            129889              4586           61              4.0     0  "
      ]
     },
     "execution_count": 141,
     "metadata": {},
     "output_type": "execute_result"
    }
   ],
   "source": [
    "columns_to_remove=['APP_BYTES','REMOTE_APP_PACKETS','NUMBER_SPECIAL_CHARACTERS', 'SOURCE_APP_PACKETS']\n",
    "\n",
    "# Your code here\n",
    "websites_new= websites.drop(columns=columns_to_remove)\n",
    "\n",
    "# Displaying the cleaned dataset\n",
    "websites_new.head()"
   ]
  },
  {
   "cell_type": "code",
   "execution_count": 142,
   "metadata": {},
   "outputs": [],
   "source": [
    "# Your comment here"
   ]
  },
  {
   "cell_type": "code",
   "execution_count": 143,
   "metadata": {},
   "outputs": [
    {
     "data": {
      "image/png": "[encoded data removed]",
      "text/plain": [
       "<Figure size 1400x1200 with 2 Axes>"
      ]
     },
     "metadata": {},
     "output_type": "display_data"
    }
   ],
   "source": [
    "# Recalculate the correlation matrix with the cleaned dataset\n",
    "numeric_websites_cleaned = websites_new.select_dtypes(include=['int64', 'float64'])\n",
    "correlation_matrix_cleaned = numeric_websites_cleaned.corr()\n",
    "\n",
    "# Set up the matplotlib figure\n",
    "plt.figure(figsize=(14, 12))\n",
    "\n",
    "# Generate the heatmap for the cleaned correlation matrix to visualize remaining collinearity\n",
    "sns.heatmap(correlation_matrix_cleaned, annot=True, fmt=\".2f\", cmap=\"coolwarm\", linewidths=0.5)\n",
    "\n",
    "# Add title for clarity\n",
    "plt.title(\"Heatmap of Correlation Matrix After Removing High Collinearity Features\")\n",
    "plt.show()\n"
   ]
  },
  {
   "cell_type": "code",
   "execution_count": 144,
   "metadata": {},
   "outputs": [],
   "source": [
    "#'APP_PACKETS' & 'TCP_CONVERSATION_EXCHANGE's correlation is still high, but it is below 0.9 so they can both stay"
   ]
  },
  {
   "cell_type": "markdown",
   "metadata": {},
   "source": [
    "# Challenge 3 - Handle Missing Values\n",
    "\n",
    "The next step would be handling missing values. **We start by examining the number of missing values in each column, which you will do in the next cell.**"
   ]
  },
  {
   "cell_type": "code",
   "execution_count": 145,
   "metadata": {},
   "outputs": [
    {
     "data": {
      "text/plain": [
       "CHARSET                 7\n",
       "SERVER                176\n",
       "CONTENT_LENGTH        812\n",
       "WHOIS_COUNTRY         306\n",
       "WHOIS_STATEPRO        362\n",
       "WHOIS_REGDATE         127\n",
       "WHOIS_UPDATED_DATE    139\n",
       "DNS_QUERY_TIMES         1\n",
       "dtype: int64"
      ]
     },
     "execution_count": 145,
     "metadata": {},
     "output_type": "execute_result"
    }
   ],
   "source": [
    "# Your code here\n",
    "\n",
    "missing_values = websites_new.isnull().sum()\n",
    "\n",
    "missing_values_with_values = missing_values[missing_values > 0]\n",
    "missing_values_with_values"
   ]
  },
  {
   "cell_type": "markdown",
   "metadata": {},
   "source": [
    "If you remember in the previous labs, we drop a column if the column contains a high proportion of missing values. After dropping those problematic columns, we drop the rows with missing values.\n",
    "\n",
    "#### In the cells below, handle the missing values from the dataset. Remember to comment the rationale of your decisions."
   ]
  },
  {
   "cell_type": "code",
   "execution_count": 146,
   "metadata": {},
   "outputs": [
    {
     "name": "stdout",
     "output_type": "stream",
     "text": [
      "CHARSET               0.003930\n",
      "SERVER                0.098821\n",
      "CONTENT_LENGTH        0.455924\n",
      "WHOIS_COUNTRY         0.171814\n",
      "WHOIS_STATEPRO        0.203257\n",
      "WHOIS_REGDATE         0.071308\n",
      "WHOIS_UPDATED_DATE    0.078046\n",
      "DNS_QUERY_TIMES       0.000561\n",
      "dtype: float64\n"
     ]
    }
   ],
   "source": [
    "# Calculating the proportion of missing values in each column\n",
    "total_rows = len(websites_new)\n",
    "missing_proportions = missing_values / total_rows\n",
    "\n",
    "# Displaying columns with their missing value proportions\n",
    "missing_proportions_with_values = missing_proportions[missing_proportions > 0]\n",
    "print(missing_proportions_with_values)"
   ]
  },
  {
   "cell_type": "code",
   "execution_count": 147,
   "metadata": {},
   "outputs": [
    {
     "name": "stdout",
     "output_type": "stream",
     "text": [
      "       URL  URL_LENGTH     CHARSET                 SERVER WHOIS_COUNTRY  \\\n",
      "0   M0_109          16  iso-8859-1                  nginx           NaN   \n",
      "1  B0_2314          16       UTF-8          Apache/2.4.10           NaN   \n",
      "2   B0_911          16    us-ascii  Microsoft-HTTPAPI/2.0           NaN   \n",
      "3   B0_113          17  ISO-8859-1                  nginx            US   \n",
      "4   B0_403          17       UTF-8                    NaN            US   \n",
      "\n",
      "  WHOIS_STATEPRO     WHOIS_REGDATE WHOIS_UPDATED_DATE  \\\n",
      "0            NaN  10/10/2015 18:21                NaN   \n",
      "1            NaN               NaN                NaN   \n",
      "2            NaN               NaN                NaN   \n",
      "3             AK    7/10/1997 4:00    12/09/2013 0:45   \n",
      "4             TX   12/05/1996 0:00    11/04/2017 0:00   \n",
      "\n",
      "   TCP_CONVERSATION_EXCHANGE  DIST_REMOTE_TCP_PORT  REMOTE_IPS  \\\n",
      "0                          7                     0           2   \n",
      "1                         17                     7           4   \n",
      "2                          0                     0           0   \n",
      "3                         31                    22           3   \n",
      "4                         57                     2           5   \n",
      "\n",
      "   SOURCE_APP_BYTES  REMOTE_APP_BYTES  APP_PACKETS  DNS_QUERY_TIMES  Type  \n",
      "0              1153               832            9              2.0     1  \n",
      "1              1265              1230           17              0.0     0  \n",
      "2                 0                 0            0              0.0     0  \n",
      "3             18784              4380           39              8.0     0  \n",
      "4            129889              4586           61              4.0     0  \n"
     ]
    }
   ],
   "source": [
    "# Dropping the 'CONTENT_LENGTH' column\n",
    "websites_new = websites_new.drop(columns=['CONTENT_LENGTH'])\n",
    "\n",
    "# Display the first few rows\n",
    "print(websites_new.head())\n"
   ]
  },
  {
   "cell_type": "code",
   "execution_count": 148,
   "metadata": {},
   "outputs": [
    {
     "name": "stdout",
     "output_type": "stream",
     "text": [
      "Series([], dtype: int64)\n"
     ]
    }
   ],
   "source": [
    "# List of columns to check for missing values\n",
    "columns_to_check = ['CHARSET', 'SERVER', 'WHOIS_COUNTRY', 'WHOIS_STATEPRO', 'WHOIS_REGDATE', 'WHOIS_UPDATED_DATE','DNS_QUERY_TIMES']\n",
    "\n",
    "# Dropping rows with missing values in the specified columns\n",
    "websites_new_cleaned = websites_new.dropna(subset=columns_to_check)\n",
    "\n",
    "# Checking if there are any remaining missing values in the specified columns\n",
    "remaining_missing_values = websites_new_cleaned[columns_to_check].isnull().sum()\n",
    "\n",
    "# Displaying columns with remaining missing values, if any\n",
    "print(remaining_missing_values[remaining_missing_values > 0])\n",
    "\n"
   ]
  },
  {
   "cell_type": "code",
   "execution_count": 149,
   "metadata": {},
   "outputs": [],
   "source": [
    "#CONTENT_LENGTH has 812 missing values, the columns has been dropped, in \n",
    "#'CHARSET', 'SERVER', 'WHOIS_COUNTRY', 'WHOIS_STATEPRO', 'WHOIS_REGDATE', 'WHOIS_UPDATED_DATE'\n",
    "#only dropped the rows with the missing value, because the proportion of missing values was les than 2%"
   ]
  },
  {
   "cell_type": "markdown",
   "metadata": {},
   "source": [
    "#### Again, examine the number of missing values in each column. \n",
    "\n",
    "If all cleaned, proceed. Otherwise, go back and do more cleaning."
   ]
  },
  {
   "cell_type": "code",
   "execution_count": 150,
   "metadata": {},
   "outputs": [
    {
     "data": {
      "text/plain": [
       "Series([], dtype: int64)"
      ]
     },
     "execution_count": 150,
     "metadata": {},
     "output_type": "execute_result"
    }
   ],
   "source": [
    "# Examine missing values in each column\n",
    "missing_values = websites_new_cleaned.isnull().sum()\n",
    "\n",
    "missing_values_with_values = missing_values[missing_values > 0]\n",
    "missing_values_with_values"
   ]
  },
  {
   "cell_type": "markdown",
   "metadata": {},
   "source": [
    "# Challenge 4 - Handle `WHOIS_*` Categorical Data"
   ]
  },
  {
   "cell_type": "markdown",
   "metadata": {},
   "source": [
    "There are several categorical columns we need to handle. These columns are:\n",
    "\n",
    "* `URL`\n",
    "* `CHARSET`\n",
    "* `SERVER`\n",
    "* `WHOIS_COUNTRY`\n",
    "* `WHOIS_STATEPRO`\n",
    "* `WHOIS_REGDATE`\n",
    "* `WHOIS_UPDATED_DATE`\n",
    "\n",
    "How to handle string columns is always case by case. Let's start by working on `WHOIS_COUNTRY`. Your steps are:\n",
    "\n",
    "1. List out the unique values of `WHOIS_COUNTRY`.\n",
    "1. Consolidate the country values with consistent country codes. For example, the following values refer to the same country and should use consistent country code:\n",
    "    * `CY` and `Cyprus`\n",
    "    * `US` and `us`\n",
    "    * `SE` and `se`\n",
    "    * `GB`, `United Kingdom`, and `[u'GB'; u'UK']`\n",
    "\n",
    "#### In the cells below, fix the country values as intructed above."
   ]
  },
  {
   "cell_type": "code",
   "execution_count": 151,
   "metadata": {},
   "outputs": [
    {
     "name": "stdout",
     "output_type": "stream",
     "text": [
      "[nan 'US' 'SC' 'GB' 'UK' 'RU' 'AU' 'CA' 'PA' 'se' 'IN' 'LU' 'TH'\n",
      " \"[u'GB'; u'UK']\" 'FR' 'NL' 'UG' 'JP' 'CN' 'SE' 'SI' 'IL' 'ru' 'KY' 'AT'\n",
      " 'CZ' 'PH' 'BE' 'NO' 'TR' 'LV' 'DE' 'ES' 'BR' 'us' 'KR' 'HK' 'UA' 'CH'\n",
      " 'United Kingdom' 'BS' 'PK' 'IT' 'Cyprus' 'BY' 'AE' 'IE' 'UY' 'KG']\n"
     ]
    }
   ],
   "source": [
    "# Your code here\n",
    "# Listing out the unique values in the 'WHOIS_COUNTRY' column\n",
    "unique_whois_countries = websites_new['WHOIS_COUNTRY'].unique()\n",
    "\n",
    "# Displaying the unique values\n",
    "print(unique_whois_countries)\n"
   ]
  },
  {
   "cell_type": "code",
   "execution_count": 152,
   "metadata": {},
   "outputs": [
    {
     "name": "stdout",
     "output_type": "stream",
     "text": [
      "Unique WHOIS_COUNTRY values before consolidation: [nan 'US' 'SC' 'GB' 'UK' 'RU' 'AU' 'CA' 'PA' 'se' 'IN' 'LU' 'TH'\n",
      " \"[u'GB'; u'UK']\" 'FR' 'NL' 'UG' 'JP' 'CN' 'SE' 'SI' 'IL' 'ru' 'KY' 'AT'\n",
      " 'CZ' 'PH' 'BE' 'NO' 'TR' 'LV' 'DE' 'ES' 'BR' 'us' 'KR' 'HK' 'UA' 'CH'\n",
      " 'United Kingdom' 'BS' 'PK' 'IT' 'Cyprus' 'BY' 'AE' 'IE' 'UY' 'KG']\n",
      "Unique WHOIS_COUNTRY values after consolidation: [nan 'US' 'SC' 'GB' 'RU' 'AU' 'CA' 'PA' 'SE' 'IN' 'LU' 'TH' 'FR' 'NL' 'UG'\n",
      " 'JP' 'CN' 'SI' 'IL' 'KY' 'AT' 'CZ' 'PH' 'BE' 'NO' 'TR' 'LV' 'DE' 'ES'\n",
      " 'BR' 'KR' 'HK' 'UA' 'CH' 'BS' 'PK' 'IT' 'CY' 'BY' 'AE' 'IE' 'UY' 'KG']\n"
     ]
    }
   ],
   "source": [
    "# Unique values in the 'WHOIS_COUNTRY' column\n",
    "unique_whois_countries = websites_new['WHOIS_COUNTRY'].unique()\n",
    "print(\"Unique WHOIS_COUNTRY values before consolidation:\", unique_whois_countries)\n",
    "\n",
    "# Defining a country mapping for consolidation\n",
    "country_mapping = {\n",
    "    'CY': 'CY', \n",
    "    'Cyprus': 'CY',\n",
    "    'US': 'US', \n",
    "    'us': 'US',\n",
    "    'SE': 'SE',\n",
    "    'se': 'SE',\n",
    "    'GB': 'GB',\n",
    "    'United Kingdom': 'GB',\n",
    "    \"[u'GB'; u'UK']\": 'GB',\n",
    "    'UK': 'GB',\n",
    "    'ru': 'RU',\n",
    "    'RU': 'RU',\n",
    "}\n",
    "\n",
    "# Applying the mapping to consolidate country codes\n",
    "websites_new['WHOIS_COUNTRY'] = websites_new['WHOIS_COUNTRY'].replace(country_mapping)\n",
    "\n",
    "# List unique values after consolidation\n",
    "unique_whois_countries_after = websites_new['WHOIS_COUNTRY'].unique()\n",
    "print(\"Unique WHOIS_COUNTRY values after consolidation:\", unique_whois_countries_after)\n"
   ]
  },
  {
   "cell_type": "markdown",
   "metadata": {},
   "source": [
    "Since we have fixed the country values, can we convert this column to ordinal now?\n",
    "\n",
    "Not yet. If you reflect on the previous labs how we handle categorical columns, you probably remember we ended up dropping a lot of those columns because there are too many unique values. Too many unique values in a column is not desirable in machine learning because it makes prediction inaccurate. But there are workarounds under certain conditions. One of the fixable conditions is:\n",
    "\n",
    "#### If a limited number of values account for the majority of data, we can retain these top values and re-label all other rare values.\n",
    "\n",
    "The `WHOIS_COUNTRY` column happens to be this case. You can verify it by print a bar chart of the `value_counts` in the next cell to verify:"
   ]
  },
  {
   "cell_type": "code",
   "execution_count": 153,
   "metadata": {},
   "outputs": [
    {
     "data": {
      "image/png": "[encoded data removed]",
      "text/plain": [
       "<Figure size 1000x600 with 1 Axes>"
      ]
     },
     "metadata": {},
     "output_type": "display_data"
    }
   ],
   "source": [
    "# Value counts for the 'WHOIS_COUNTRY' column\n",
    "whois_country_counts = websites_new['WHOIS_COUNTRY'].value_counts()\n",
    "\n",
    "# Plotting the bar chart for the 'WHOIS_COUNTRY' value counts\n",
    "plt.figure(figsize=(10, 6))\n",
    "whois_country_counts.plot(kind='bar')\n",
    "plt.title('Value Counts of WHOIS_COUNTRY')\n",
    "plt.xlabel('Country Code')\n",
    "plt.ylabel('Frequency')\n",
    "plt.xticks(rotation=45)\n",
    "plt.show()\n"
   ]
  },
  {
   "cell_type": "markdown",
   "metadata": {},
   "source": [
    "#### After verifying, now let's keep the top 10 values of the column and re-label other columns with `OTHER`."
   ]
  },
  {
   "cell_type": "code",
   "execution_count": 154,
   "metadata": {
    "scrolled": true
   },
   "outputs": [
    {
     "data": {
      "text/plain": [
       "WHOIS_COUNTRY\n",
       "US       1106\n",
       "OTHER     397\n",
       "CA         84\n",
       "ES         63\n",
       "GB         35\n",
       "AU         35\n",
       "PA         21\n",
       "JP         11\n",
       "IN         10\n",
       "CN         10\n",
       "FR          9\n",
       "Name: count, dtype: int64"
      ]
     },
     "execution_count": 154,
     "metadata": {},
     "output_type": "execute_result"
    }
   ],
   "source": [
    "# Value counts for the 'WHOIS_COUNTRY' column\n",
    "whois_country_counts = websites_new['WHOIS_COUNTRY'].value_counts()\n",
    "\n",
    "# Identifying the top 10 most common countries\n",
    "top_10_countries = whois_country_counts.head(10).index\n",
    "\n",
    "# Re-labeling all other countries as 'OTHER'\n",
    "websites_new['WHOIS_COUNTRY'] = websites_new['WHOIS_COUNTRY'].apply(lambda x: x if x in top_10_countries else 'OTHER')\n",
    "\n",
    "# Displaying the updated value counts to verify\n",
    "updated_country_counts = websites_new['WHOIS_COUNTRY'].value_counts()\n",
    "updated_country_counts\n"
   ]
  },
  {
   "cell_type": "markdown",
   "metadata": {},
   "source": [
    "Now since `WHOIS_COUNTRY` has been re-labelled, we don't need `WHOIS_STATEPRO` any more because the values of the states or provinces may not be relevant any more. We'll drop this column.\n",
    "\n",
    "In addition, we will also drop `WHOIS_REGDATE` and `WHOIS_UPDATED_DATE`. These are the registration and update dates of the website domains. Not of our concerns.\n",
    "\n",
    "#### In the next cell, drop `['WHOIS_STATEPRO', 'WHOIS_REGDATE', 'WHOIS_UPDATED_DATE']`."
   ]
  },
  {
   "cell_type": "code",
   "execution_count": 155,
   "metadata": {},
   "outputs": [
    {
     "data": {
      "text/html": [
       "<div>\n",
       "<style scoped>\n",
       "    .dataframe tbody tr th:only-of-type {\n",
       "        vertical-align: middle;\n",
       "    }\n",
       "\n",
       "    .dataframe tbody tr th {\n",
       "        vertical-align: top;\n",
       "    }\n",
       "\n",
       "    .dataframe thead th {\n",
       "        text-align: right;\n",
       "    }\n",
       "</style>\n",
       "<table border=\"1\" class=\"dataframe\">\n",
       "  <thead>\n",
       "    <tr style=\"text-align: right;\">\n",
       "      <th></th>\n",
       "      <th>URL</th>\n",
       "      <th>URL_LENGTH</th>\n",
       "      <th>CHARSET</th>\n",
       "      <th>SERVER</th>\n",
       "      <th>WHOIS_COUNTRY</th>\n",
       "      <th>TCP_CONVERSATION_EXCHANGE</th>\n",
       "      <th>DIST_REMOTE_TCP_PORT</th>\n",
       "      <th>REMOTE_IPS</th>\n",
       "      <th>SOURCE_APP_BYTES</th>\n",
       "      <th>REMOTE_APP_BYTES</th>\n",
       "      <th>APP_PACKETS</th>\n",
       "      <th>DNS_QUERY_TIMES</th>\n",
       "      <th>Type</th>\n",
       "    </tr>\n",
       "  </thead>\n",
       "  <tbody>\n",
       "    <tr>\n",
       "      <th>0</th>\n",
       "      <td>M0_109</td>\n",
       "      <td>16</td>\n",
       "      <td>iso-8859-1</td>\n",
       "      <td>nginx</td>\n",
       "      <td>OTHER</td>\n",
       "      <td>7</td>\n",
       "      <td>0</td>\n",
       "      <td>2</td>\n",
       "      <td>1153</td>\n",
       "      <td>832</td>\n",
       "      <td>9</td>\n",
       "      <td>2.0</td>\n",
       "      <td>1</td>\n",
       "    </tr>\n",
       "    <tr>\n",
       "      <th>1</th>\n",
       "      <td>B0_2314</td>\n",
       "      <td>16</td>\n",
       "      <td>UTF-8</td>\n",
       "      <td>Apache/2.4.10</td>\n",
       "      <td>OTHER</td>\n",
       "      <td>17</td>\n",
       "      <td>7</td>\n",
       "      <td>4</td>\n",
       "      <td>1265</td>\n",
       "      <td>1230</td>\n",
       "      <td>17</td>\n",
       "      <td>0.0</td>\n",
       "      <td>0</td>\n",
       "    </tr>\n",
       "    <tr>\n",
       "      <th>2</th>\n",
       "      <td>B0_911</td>\n",
       "      <td>16</td>\n",
       "      <td>us-ascii</td>\n",
       "      <td>Microsoft-HTTPAPI/2.0</td>\n",
       "      <td>OTHER</td>\n",
       "      <td>0</td>\n",
       "      <td>0</td>\n",
       "      <td>0</td>\n",
       "      <td>0</td>\n",
       "      <td>0</td>\n",
       "      <td>0</td>\n",
       "      <td>0.0</td>\n",
       "      <td>0</td>\n",
       "    </tr>\n",
       "    <tr>\n",
       "      <th>3</th>\n",
       "      <td>B0_113</td>\n",
       "      <td>17</td>\n",
       "      <td>ISO-8859-1</td>\n",
       "      <td>nginx</td>\n",
       "      <td>US</td>\n",
       "      <td>31</td>\n",
       "      <td>22</td>\n",
       "      <td>3</td>\n",
       "      <td>18784</td>\n",
       "      <td>4380</td>\n",
       "      <td>39</td>\n",
       "      <td>8.0</td>\n",
       "      <td>0</td>\n",
       "    </tr>\n",
       "    <tr>\n",
       "      <th>4</th>\n",
       "      <td>B0_403</td>\n",
       "      <td>17</td>\n",
       "      <td>UTF-8</td>\n",
       "      <td>NaN</td>\n",
       "      <td>US</td>\n",
       "      <td>57</td>\n",
       "      <td>2</td>\n",
       "      <td>5</td>\n",
       "      <td>129889</td>\n",
       "      <td>4586</td>\n",
       "      <td>61</td>\n",
       "      <td>4.0</td>\n",
       "      <td>0</td>\n",
       "    </tr>\n",
       "  </tbody>\n",
       "</table>\n",
       "</div>"
      ],
      "text/plain": [
       "       URL  URL_LENGTH     CHARSET                 SERVER WHOIS_COUNTRY  \\\n",
       "0   M0_109          16  iso-8859-1                  nginx         OTHER   \n",
       "1  B0_2314          16       UTF-8          Apache/2.4.10         OTHER   \n",
       "2   B0_911          16    us-ascii  Microsoft-HTTPAPI/2.0         OTHER   \n",
       "3   B0_113          17  ISO-8859-1                  nginx            US   \n",
       "4   B0_403          17       UTF-8                    NaN            US   \n",
       "\n",
       "   TCP_CONVERSATION_EXCHANGE  DIST_REMOTE_TCP_PORT  REMOTE_IPS  \\\n",
       "0                          7                     0           2   \n",
       "1                         17                     7           4   \n",
       "2                          0                     0           0   \n",
       "3                         31                    22           3   \n",
       "4                         57                     2           5   \n",
       "\n",
       "   SOURCE_APP_BYTES  REMOTE_APP_BYTES  APP_PACKETS  DNS_QUERY_TIMES  Type  \n",
       "0              1153               832            9              2.0     1  \n",
       "1              1265              1230           17              0.0     0  \n",
       "2                 0                 0            0              0.0     0  \n",
       "3             18784              4380           39              8.0     0  \n",
       "4            129889              4586           61              4.0     0  "
      ]
     },
     "execution_count": 155,
     "metadata": {},
     "output_type": "execute_result"
    }
   ],
   "source": [
    "columns_to_drop = ['WHOIS_STATEPRO', 'WHOIS_REGDATE', 'WHOIS_UPDATED_DATE']\n",
    "websites_new = websites_new.drop(columns=columns_to_drop)\n",
    "\n",
    "websites_new.head()\n"
   ]
  },
  {
   "cell_type": "markdown",
   "metadata": {},
   "source": [
    "# Challenge 5 - Handle Remaining Categorical Data & Convert to Ordinal\n",
    "\n",
    "Now print the `dtypes` of the data again. Besides `WHOIS_COUNTRY` which we already fixed, there should be 3 categorical columns left: `URL`, `CHARSET`, and `SERVER`."
   ]
  },
  {
   "cell_type": "code",
   "execution_count": 156,
   "metadata": {},
   "outputs": [
    {
     "name": "stdout",
     "output_type": "stream",
     "text": [
      "URL                           object\n",
      "URL_LENGTH                     int64\n",
      "CHARSET                       object\n",
      "SERVER                        object\n",
      "WHOIS_COUNTRY                 object\n",
      "TCP_CONVERSATION_EXCHANGE      int64\n",
      "DIST_REMOTE_TCP_PORT           int64\n",
      "REMOTE_IPS                     int64\n",
      "SOURCE_APP_BYTES               int64\n",
      "REMOTE_APP_BYTES               int64\n",
      "APP_PACKETS                    int64\n",
      "DNS_QUERY_TIMES              float64\n",
      "Type                           int64\n",
      "dtype: object\n"
     ]
    }
   ],
   "source": [
    "print(websites_new.dtypes)"
   ]
  },
  {
   "cell_type": "markdown",
   "metadata": {},
   "source": [
    "#### `URL` is easy. We'll simply drop it because it has too many unique values that there's no way for us to consolidate."
   ]
  },
  {
   "cell_type": "code",
   "execution_count": 157,
   "metadata": {},
   "outputs": [
    {
     "data": {
      "text/html": [
       "<div>\n",
       "<style scoped>\n",
       "    .dataframe tbody tr th:only-of-type {\n",
       "        vertical-align: middle;\n",
       "    }\n",
       "\n",
       "    .dataframe tbody tr th {\n",
       "        vertical-align: top;\n",
       "    }\n",
       "\n",
       "    .dataframe thead th {\n",
       "        text-align: right;\n",
       "    }\n",
       "</style>\n",
       "<table border=\"1\" class=\"dataframe\">\n",
       "  <thead>\n",
       "    <tr style=\"text-align: right;\">\n",
       "      <th></th>\n",
       "      <th>URL_LENGTH</th>\n",
       "      <th>CHARSET</th>\n",
       "      <th>SERVER</th>\n",
       "      <th>WHOIS_COUNTRY</th>\n",
       "      <th>TCP_CONVERSATION_EXCHANGE</th>\n",
       "      <th>DIST_REMOTE_TCP_PORT</th>\n",
       "      <th>REMOTE_IPS</th>\n",
       "      <th>SOURCE_APP_BYTES</th>\n",
       "      <th>REMOTE_APP_BYTES</th>\n",
       "      <th>APP_PACKETS</th>\n",
       "      <th>DNS_QUERY_TIMES</th>\n",
       "      <th>Type</th>\n",
       "    </tr>\n",
       "  </thead>\n",
       "  <tbody>\n",
       "    <tr>\n",
       "      <th>0</th>\n",
       "      <td>16</td>\n",
       "      <td>iso-8859-1</td>\n",
       "      <td>nginx</td>\n",
       "      <td>OTHER</td>\n",
       "      <td>7</td>\n",
       "      <td>0</td>\n",
       "      <td>2</td>\n",
       "      <td>1153</td>\n",
       "      <td>832</td>\n",
       "      <td>9</td>\n",
       "      <td>2.0</td>\n",
       "      <td>1</td>\n",
       "    </tr>\n",
       "    <tr>\n",
       "      <th>1</th>\n",
       "      <td>16</td>\n",
       "      <td>UTF-8</td>\n",
       "      <td>Apache/2.4.10</td>\n",
       "      <td>OTHER</td>\n",
       "      <td>17</td>\n",
       "      <td>7</td>\n",
       "      <td>4</td>\n",
       "      <td>1265</td>\n",
       "      <td>1230</td>\n",
       "      <td>17</td>\n",
       "      <td>0.0</td>\n",
       "      <td>0</td>\n",
       "    </tr>\n",
       "    <tr>\n",
       "      <th>2</th>\n",
       "      <td>16</td>\n",
       "      <td>us-ascii</td>\n",
       "      <td>Microsoft-HTTPAPI/2.0</td>\n",
       "      <td>OTHER</td>\n",
       "      <td>0</td>\n",
       "      <td>0</td>\n",
       "      <td>0</td>\n",
       "      <td>0</td>\n",
       "      <td>0</td>\n",
       "      <td>0</td>\n",
       "      <td>0.0</td>\n",
       "      <td>0</td>\n",
       "    </tr>\n",
       "    <tr>\n",
       "      <th>3</th>\n",
       "      <td>17</td>\n",
       "      <td>ISO-8859-1</td>\n",
       "      <td>nginx</td>\n",
       "      <td>US</td>\n",
       "      <td>31</td>\n",
       "      <td>22</td>\n",
       "      <td>3</td>\n",
       "      <td>18784</td>\n",
       "      <td>4380</td>\n",
       "      <td>39</td>\n",
       "      <td>8.0</td>\n",
       "      <td>0</td>\n",
       "    </tr>\n",
       "    <tr>\n",
       "      <th>4</th>\n",
       "      <td>17</td>\n",
       "      <td>UTF-8</td>\n",
       "      <td>NaN</td>\n",
       "      <td>US</td>\n",
       "      <td>57</td>\n",
       "      <td>2</td>\n",
       "      <td>5</td>\n",
       "      <td>129889</td>\n",
       "      <td>4586</td>\n",
       "      <td>61</td>\n",
       "      <td>4.0</td>\n",
       "      <td>0</td>\n",
       "    </tr>\n",
       "  </tbody>\n",
       "</table>\n",
       "</div>"
      ],
      "text/plain": [
       "   URL_LENGTH     CHARSET                 SERVER WHOIS_COUNTRY  \\\n",
       "0          16  iso-8859-1                  nginx         OTHER   \n",
       "1          16       UTF-8          Apache/2.4.10         OTHER   \n",
       "2          16    us-ascii  Microsoft-HTTPAPI/2.0         OTHER   \n",
       "3          17  ISO-8859-1                  nginx            US   \n",
       "4          17       UTF-8                    NaN            US   \n",
       "\n",
       "   TCP_CONVERSATION_EXCHANGE  DIST_REMOTE_TCP_PORT  REMOTE_IPS  \\\n",
       "0                          7                     0           2   \n",
       "1                         17                     7           4   \n",
       "2                          0                     0           0   \n",
       "3                         31                    22           3   \n",
       "4                         57                     2           5   \n",
       "\n",
       "   SOURCE_APP_BYTES  REMOTE_APP_BYTES  APP_PACKETS  DNS_QUERY_TIMES  Type  \n",
       "0              1153               832            9              2.0     1  \n",
       "1              1265              1230           17              0.0     0  \n",
       "2                 0                 0            0              0.0     0  \n",
       "3             18784              4380           39              8.0     0  \n",
       "4            129889              4586           61              4.0     0  "
      ]
     },
     "execution_count": 157,
     "metadata": {},
     "output_type": "execute_result"
    }
   ],
   "source": [
    "websites_new = websites_new.drop(columns=['URL'])\n",
    "\n",
    "websites_new.head()\n"
   ]
  },
  {
   "cell_type": "markdown",
   "metadata": {},
   "source": [
    "#### Print the unique value counts of `CHARSET`. You see there are only a few unique values. So we can keep it as it is."
   ]
  },
  {
   "cell_type": "code",
   "execution_count": 158,
   "metadata": {},
   "outputs": [
    {
     "data": {
      "text/plain": [
       "CHARSET\n",
       "UTF-8           676\n",
       "ISO-8859-1      427\n",
       "utf-8           379\n",
       "us-ascii        155\n",
       "iso-8859-1      134\n",
       "windows-1251      1\n",
       "ISO-8859          1\n",
       "windows-1252      1\n",
       "Name: count, dtype: int64"
      ]
     },
     "execution_count": 158,
     "metadata": {},
     "output_type": "execute_result"
    }
   ],
   "source": [
    "charset_value_counts = websites_new['CHARSET'].value_counts()\n",
    "\n",
    "charset_value_counts"
   ]
  },
  {
   "cell_type": "markdown",
   "metadata": {},
   "source": [
    "`SERVER` is a little more complicated. Print its unique values and think about how you can consolidate those values.\n",
    "\n",
    "#### Before you think of your own solution, don't read the instructions that come next."
   ]
  },
  {
   "cell_type": "code",
   "execution_count": 159,
   "metadata": {},
   "outputs": [
    {
     "data": {
      "text/plain": [
       "SERVER\n",
       "Apache                                                       386\n",
       "nginx                                                        211\n",
       "Microsoft-HTTPAPI/2.0                                        113\n",
       "cloudflare-nginx                                              94\n",
       "Microsoft-IIS/7.5                                             51\n",
       "                                                            ... \n",
       "mw2103.codfw.wmnet                                             1\n",
       "Apache/2.4.25 (Debian)                                         1\n",
       "ECD (fll/0790)                                                 1\n",
       "Apache/2.4.25 (FreeBSD) OpenSSL/1.0.1s-freebsd PHP/5.6.30      1\n",
       "Apache/2.2.16 (Debian)                                         1\n",
       "Name: count, Length: 238, dtype: int64"
      ]
     },
     "execution_count": 159,
     "metadata": {},
     "output_type": "execute_result"
    }
   ],
   "source": [
    "server_value_counts = websites_new['SERVER'].value_counts()\n",
    "\n",
    "server_value_counts"
   ]
  },
  {
   "cell_type": "markdown",
   "metadata": {},
   "source": [
    "![Think Hard](../images/think-hard.jpg)"
   ]
  },
  {
   "cell_type": "code",
   "execution_count": 24,
   "metadata": {},
   "outputs": [],
   "source": [
    "# Your comment here\n"
   ]
  },
  {
   "cell_type": "markdown",
   "metadata": {},
   "source": [
    "Although there are so many unique values in the `SERVER` column, there are actually only 3 main server types: `Microsoft`, `Apache`, and `nginx`. Just check if each `SERVER` value contains any of those server types and re-label them. For `SERVER` values that don't contain any of those substrings, label with `Other`.\n",
    "\n",
    "At the end, your `SERVER` column should only contain 4 unique values: `Microsoft`, `Apache`, `nginx`, and `Other`."
   ]
  },
  {
   "cell_type": "code",
   "execution_count": 162,
   "metadata": {},
   "outputs": [],
   "source": [
    "# Function to re-label the 'SERVER' column based on the presence of server types\n",
    "def relabel_server(server_name):\n",
    "    if pd.isna(server_name):\n",
    "        return 'Other'  # Treat NaN values as 'Other'\n",
    "    server_name_lower = server_name.lower()\n",
    "    if 'microsoft' in server_name_lower:\n",
    "        return 'Microsoft'\n",
    "    elif 'apache' in server_name_lower:\n",
    "        return 'Apache'\n",
    "    elif 'nginx' in server_name_lower:\n",
    "        return 'nginx'\n",
    "    else:\n",
    "        return 'Other'\n",
    "\n",
    "# Apply the function to the 'SERVER' column\n",
    "websites_new['SERVER'] = websites_new['SERVER'].apply(relabel_server)\n"
   ]
  },
  {
   "cell_type": "code",
   "execution_count": 163,
   "metadata": {
    "scrolled": false
   },
   "outputs": [
    {
     "name": "stdout",
     "output_type": "stream",
     "text": [
      "Unique SERVER values after relabeling: ['nginx' 'Apache' 'Microsoft' 'Other']\n"
     ]
    }
   ],
   "source": [
    "# Display the unique values in the 'SERVER' column to confirm the changes\n",
    "unique_server_values = websites_new['SERVER'].unique()\n",
    "print(\"Unique SERVER values after relabeling:\", unique_server_values)"
   ]
  },
  {
   "cell_type": "markdown",
   "metadata": {},
   "source": [
    "OK, all our categorical data are fixed now. **Let's convert them to ordinal data using Pandas' `get_dummies` function ([documentation](https://pandas.pydata.org/pandas-docs/stable/generated/pandas.get_dummies.html)). Also, assign the data with dummy values to a new variable `website_dummy`.**"
   ]
  },
  {
   "cell_type": "code",
   "execution_count": 168,
   "metadata": {},
   "outputs": [
    {
     "data": {
      "text/html": [
       "<div>\n",
       "<style scoped>\n",
       "    .dataframe tbody tr th:only-of-type {\n",
       "        vertical-align: middle;\n",
       "    }\n",
       "\n",
       "    .dataframe tbody tr th {\n",
       "        vertical-align: top;\n",
       "    }\n",
       "\n",
       "    .dataframe thead th {\n",
       "        text-align: right;\n",
       "    }\n",
       "</style>\n",
       "<table border=\"1\" class=\"dataframe\">\n",
       "  <thead>\n",
       "    <tr style=\"text-align: right;\">\n",
       "      <th></th>\n",
       "      <th>URL_LENGTH</th>\n",
       "      <th>TCP_CONVERSATION_EXCHANGE</th>\n",
       "      <th>DIST_REMOTE_TCP_PORT</th>\n",
       "      <th>REMOTE_IPS</th>\n",
       "      <th>SOURCE_APP_BYTES</th>\n",
       "      <th>REMOTE_APP_BYTES</th>\n",
       "      <th>APP_PACKETS</th>\n",
       "      <th>DNS_QUERY_TIMES</th>\n",
       "      <th>Type</th>\n",
       "      <th>CHARSET_ISO-8859</th>\n",
       "      <th>...</th>\n",
       "      <th>WHOIS_COUNTRY_CA</th>\n",
       "      <th>WHOIS_COUNTRY_CN</th>\n",
       "      <th>WHOIS_COUNTRY_ES</th>\n",
       "      <th>WHOIS_COUNTRY_FR</th>\n",
       "      <th>WHOIS_COUNTRY_GB</th>\n",
       "      <th>WHOIS_COUNTRY_IN</th>\n",
       "      <th>WHOIS_COUNTRY_JP</th>\n",
       "      <th>WHOIS_COUNTRY_OTHER</th>\n",
       "      <th>WHOIS_COUNTRY_PA</th>\n",
       "      <th>WHOIS_COUNTRY_US</th>\n",
       "    </tr>\n",
       "  </thead>\n",
       "  <tbody>\n",
       "    <tr>\n",
       "      <th>0</th>\n",
       "      <td>16</td>\n",
       "      <td>7</td>\n",
       "      <td>0</td>\n",
       "      <td>2</td>\n",
       "      <td>1153</td>\n",
       "      <td>832</td>\n",
       "      <td>9</td>\n",
       "      <td>2.0</td>\n",
       "      <td>1</td>\n",
       "      <td>0.0</td>\n",
       "      <td>...</td>\n",
       "      <td>0.0</td>\n",
       "      <td>0.0</td>\n",
       "      <td>0.0</td>\n",
       "      <td>0.0</td>\n",
       "      <td>0.0</td>\n",
       "      <td>0.0</td>\n",
       "      <td>0.0</td>\n",
       "      <td>1.0</td>\n",
       "      <td>0.0</td>\n",
       "      <td>0.0</td>\n",
       "    </tr>\n",
       "    <tr>\n",
       "      <th>1</th>\n",
       "      <td>16</td>\n",
       "      <td>17</td>\n",
       "      <td>7</td>\n",
       "      <td>4</td>\n",
       "      <td>1265</td>\n",
       "      <td>1230</td>\n",
       "      <td>17</td>\n",
       "      <td>0.0</td>\n",
       "      <td>0</td>\n",
       "      <td>0.0</td>\n",
       "      <td>...</td>\n",
       "      <td>0.0</td>\n",
       "      <td>0.0</td>\n",
       "      <td>0.0</td>\n",
       "      <td>0.0</td>\n",
       "      <td>0.0</td>\n",
       "      <td>0.0</td>\n",
       "      <td>0.0</td>\n",
       "      <td>1.0</td>\n",
       "      <td>0.0</td>\n",
       "      <td>0.0</td>\n",
       "    </tr>\n",
       "    <tr>\n",
       "      <th>2</th>\n",
       "      <td>16</td>\n",
       "      <td>0</td>\n",
       "      <td>0</td>\n",
       "      <td>0</td>\n",
       "      <td>0</td>\n",
       "      <td>0</td>\n",
       "      <td>0</td>\n",
       "      <td>0.0</td>\n",
       "      <td>0</td>\n",
       "      <td>0.0</td>\n",
       "      <td>...</td>\n",
       "      <td>0.0</td>\n",
       "      <td>0.0</td>\n",
       "      <td>0.0</td>\n",
       "      <td>0.0</td>\n",
       "      <td>0.0</td>\n",
       "      <td>0.0</td>\n",
       "      <td>0.0</td>\n",
       "      <td>1.0</td>\n",
       "      <td>0.0</td>\n",
       "      <td>0.0</td>\n",
       "    </tr>\n",
       "    <tr>\n",
       "      <th>3</th>\n",
       "      <td>17</td>\n",
       "      <td>31</td>\n",
       "      <td>22</td>\n",
       "      <td>3</td>\n",
       "      <td>18784</td>\n",
       "      <td>4380</td>\n",
       "      <td>39</td>\n",
       "      <td>8.0</td>\n",
       "      <td>0</td>\n",
       "      <td>0.0</td>\n",
       "      <td>...</td>\n",
       "      <td>0.0</td>\n",
       "      <td>0.0</td>\n",
       "      <td>0.0</td>\n",
       "      <td>0.0</td>\n",
       "      <td>0.0</td>\n",
       "      <td>0.0</td>\n",
       "      <td>0.0</td>\n",
       "      <td>0.0</td>\n",
       "      <td>0.0</td>\n",
       "      <td>1.0</td>\n",
       "    </tr>\n",
       "    <tr>\n",
       "      <th>4</th>\n",
       "      <td>17</td>\n",
       "      <td>57</td>\n",
       "      <td>2</td>\n",
       "      <td>5</td>\n",
       "      <td>129889</td>\n",
       "      <td>4586</td>\n",
       "      <td>61</td>\n",
       "      <td>4.0</td>\n",
       "      <td>0</td>\n",
       "      <td>0.0</td>\n",
       "      <td>...</td>\n",
       "      <td>0.0</td>\n",
       "      <td>0.0</td>\n",
       "      <td>0.0</td>\n",
       "      <td>0.0</td>\n",
       "      <td>0.0</td>\n",
       "      <td>0.0</td>\n",
       "      <td>0.0</td>\n",
       "      <td>0.0</td>\n",
       "      <td>0.0</td>\n",
       "      <td>1.0</td>\n",
       "    </tr>\n",
       "  </tbody>\n",
       "</table>\n",
       "<p>5 rows × 32 columns</p>\n",
       "</div>"
      ],
      "text/plain": [
       "   URL_LENGTH  TCP_CONVERSATION_EXCHANGE  DIST_REMOTE_TCP_PORT  REMOTE_IPS  \\\n",
       "0          16                          7                     0           2   \n",
       "1          16                         17                     7           4   \n",
       "2          16                          0                     0           0   \n",
       "3          17                         31                    22           3   \n",
       "4          17                         57                     2           5   \n",
       "\n",
       "   SOURCE_APP_BYTES  REMOTE_APP_BYTES  APP_PACKETS  DNS_QUERY_TIMES  Type  \\\n",
       "0              1153               832            9              2.0     1   \n",
       "1              1265              1230           17              0.0     0   \n",
       "2                 0                 0            0              0.0     0   \n",
       "3             18784              4380           39              8.0     0   \n",
       "4            129889              4586           61              4.0     0   \n",
       "\n",
       "   CHARSET_ISO-8859  ...  WHOIS_COUNTRY_CA  WHOIS_COUNTRY_CN  \\\n",
       "0               0.0  ...               0.0               0.0   \n",
       "1               0.0  ...               0.0               0.0   \n",
       "2               0.0  ...               0.0               0.0   \n",
       "3               0.0  ...               0.0               0.0   \n",
       "4               0.0  ...               0.0               0.0   \n",
       "\n",
       "   WHOIS_COUNTRY_ES  WHOIS_COUNTRY_FR  WHOIS_COUNTRY_GB  WHOIS_COUNTRY_IN  \\\n",
       "0               0.0               0.0               0.0               0.0   \n",
       "1               0.0               0.0               0.0               0.0   \n",
       "2               0.0               0.0               0.0               0.0   \n",
       "3               0.0               0.0               0.0               0.0   \n",
       "4               0.0               0.0               0.0               0.0   \n",
       "\n",
       "   WHOIS_COUNTRY_JP  WHOIS_COUNTRY_OTHER  WHOIS_COUNTRY_PA  WHOIS_COUNTRY_US  \n",
       "0               0.0                  1.0               0.0               0.0  \n",
       "1               0.0                  1.0               0.0               0.0  \n",
       "2               0.0                  1.0               0.0               0.0  \n",
       "3               0.0                  0.0               0.0               1.0  \n",
       "4               0.0                  0.0               0.0               1.0  \n",
       "\n",
       "[5 rows x 32 columns]"
      ]
     },
     "execution_count": 168,
     "metadata": {},
     "output_type": "execute_result"
    }
   ],
   "source": [
    "# Converting categorical columns to dummy variables using get_dummies\n",
    "website_dummy = pd.get_dummies(websites_new, dtype=float)\n",
    "\n",
    "# Displaying the first few rows of the new DataFrame with dummy variables\n",
    "website_dummy.head()\n",
    "\n"
   ]
  },
  {
   "cell_type": "markdown",
   "metadata": {},
   "source": [
    "Now, inspect `website_dummy` to make sure the data and types are intended - there shouldn't be any categorical columns at this point."
   ]
  },
  {
   "cell_type": "code",
   "execution_count": 169,
   "metadata": {},
   "outputs": [
    {
     "name": "stdout",
     "output_type": "stream",
     "text": [
      "   URL_LENGTH  TCP_CONVERSATION_EXCHANGE  DIST_REMOTE_TCP_PORT  REMOTE_IPS  \\\n",
      "0          16                          7                     0           2   \n",
      "1          16                         17                     7           4   \n",
      "2          16                          0                     0           0   \n",
      "3          17                         31                    22           3   \n",
      "4          17                         57                     2           5   \n",
      "\n",
      "   SOURCE_APP_BYTES  REMOTE_APP_BYTES  APP_PACKETS  DNS_QUERY_TIMES  Type  \\\n",
      "0              1153               832            9              2.0     1   \n",
      "1              1265              1230           17              0.0     0   \n",
      "2                 0                 0            0              0.0     0   \n",
      "3             18784              4380           39              8.0     0   \n",
      "4            129889              4586           61              4.0     0   \n",
      "\n",
      "   CHARSET_ISO-8859  ...  WHOIS_COUNTRY_CA  WHOIS_COUNTRY_CN  \\\n",
      "0               0.0  ...               0.0               0.0   \n",
      "1               0.0  ...               0.0               0.0   \n",
      "2               0.0  ...               0.0               0.0   \n",
      "3               0.0  ...               0.0               0.0   \n",
      "4               0.0  ...               0.0               0.0   \n",
      "\n",
      "   WHOIS_COUNTRY_ES  WHOIS_COUNTRY_FR  WHOIS_COUNTRY_GB  WHOIS_COUNTRY_IN  \\\n",
      "0               0.0               0.0               0.0               0.0   \n",
      "1               0.0               0.0               0.0               0.0   \n",
      "2               0.0               0.0               0.0               0.0   \n",
      "3               0.0               0.0               0.0               0.0   \n",
      "4               0.0               0.0               0.0               0.0   \n",
      "\n",
      "   WHOIS_COUNTRY_JP  WHOIS_COUNTRY_OTHER  WHOIS_COUNTRY_PA  WHOIS_COUNTRY_US  \n",
      "0               0.0                  1.0               0.0               0.0  \n",
      "1               0.0                  1.0               0.0               0.0  \n",
      "2               0.0                  1.0               0.0               0.0  \n",
      "3               0.0                  0.0               0.0               1.0  \n",
      "4               0.0                  0.0               0.0               1.0  \n",
      "\n",
      "[5 rows x 32 columns]\n",
      "URL_LENGTH                     int64\n",
      "TCP_CONVERSATION_EXCHANGE      int64\n",
      "DIST_REMOTE_TCP_PORT           int64\n",
      "REMOTE_IPS                     int64\n",
      "SOURCE_APP_BYTES               int64\n",
      "REMOTE_APP_BYTES               int64\n",
      "APP_PACKETS                    int64\n",
      "DNS_QUERY_TIMES              float64\n",
      "Type                           int64\n",
      "CHARSET_ISO-8859             float64\n",
      "CHARSET_ISO-8859-1           float64\n",
      "CHARSET_UTF-8                float64\n",
      "CHARSET_iso-8859-1           float64\n",
      "CHARSET_us-ascii             float64\n",
      "CHARSET_utf-8                float64\n",
      "CHARSET_windows-1251         float64\n",
      "CHARSET_windows-1252         float64\n",
      "SERVER_Apache                float64\n",
      "SERVER_Microsoft             float64\n",
      "SERVER_Other                 float64\n",
      "SERVER_nginx                 float64\n",
      "WHOIS_COUNTRY_AU             float64\n",
      "WHOIS_COUNTRY_CA             float64\n",
      "WHOIS_COUNTRY_CN             float64\n",
      "WHOIS_COUNTRY_ES             float64\n",
      "WHOIS_COUNTRY_FR             float64\n",
      "WHOIS_COUNTRY_GB             float64\n",
      "WHOIS_COUNTRY_IN             float64\n",
      "WHOIS_COUNTRY_JP             float64\n",
      "WHOIS_COUNTRY_OTHER          float64\n",
      "WHOIS_COUNTRY_PA             float64\n",
      "WHOIS_COUNTRY_US             float64\n",
      "dtype: object\n",
      "Categorical columns remaining: Index([], dtype='object')\n"
     ]
    }
   ],
   "source": [
    "# Inspect the first few rows of website_dummy to check the data\n",
    "print(website_dummy.head())\n",
    "\n",
    "# Check the data types of each column to ensure there are no categorical columns\n",
    "print(website_dummy.dtypes)\n",
    "\n",
    "# Check for any remaining object (categorical) data types\n",
    "categorical_columns = website_dummy.select_dtypes(include=['object']).columns\n",
    "print(\"Categorical columns remaining:\", categorical_columns)\n"
   ]
  },
  {
   "cell_type": "markdown",
   "metadata": {},
   "source": [
    "# Challenge 6 - Modeling, Prediction, and Evaluation\n",
    "\n",
    "We'll start off this section by splitting the data to train and test. **Name your 4 variables `X_train`, `X_test`, `y_train`, and `y_test`. Select 80% of the data for training and 20% for testing.**"
   ]
  },
  {
   "cell_type": "code",
   "execution_count": 171,
   "metadata": {},
   "outputs": [
    {
     "name": "stdout",
     "output_type": "stream",
     "text": [
      "X_train shape: (1424, 31)\n",
      "X_test shape: (357, 31)\n",
      "y_train shape: (1424,)\n",
      "y_test shape: (357,)\n"
     ]
    }
   ],
   "source": [
    "from sklearn.model_selection import train_test_split\n",
    "\n",
    "# Separating the features (X) and the target variable (y)\n",
    "X = website_dummy.drop(columns=['Type'])  # Features\n",
    "y = website_dummy['Type']  # Target\n",
    "\n",
    "# Splitting the data into 80% training and 20% testing\n",
    "X_train, X_test, y_train, y_test = train_test_split(X, y, test_size=0.2, random_state=42)\n",
    "\n",
    "# Displaying the shapes of the resulting splits to verify the correct sizes\n",
    "print(\"X_train shape:\", X_train.shape)\n",
    "print(\"X_test shape:\", X_test.shape)\n",
    "print(\"y_train shape:\", y_train.shape)\n",
    "print(\"y_test shape:\", y_test.shape)"
   ]
  },
  {
   "cell_type": "markdown",
   "metadata": {},
   "source": [
    "#### In this lab, we will try two different models and compare our results.\n",
    "\n",
    "The first model we will use in this lab is logistic regression. We have previously learned about logistic regression as a classification algorithm. In the cell below, load `LogisticRegression` from scikit-learn and initialize the model."
   ]
  },
  {
   "cell_type": "code",
   "execution_count": 173,
   "metadata": {},
   "outputs": [
    {
     "name": "stdout",
     "output_type": "stream",
     "text": [
      "LogisticRegression()\n"
     ]
    }
   ],
   "source": [
    "from sklearn.linear_model import LogisticRegression\n",
    "\n",
    "# Initializing the Logistic Regression model\n",
    "logistic_model = LogisticRegression()\n",
    "\n",
    "# Display the initialized model to confirm\n",
    "print(logistic_model)"
   ]
  },
  {
   "cell_type": "markdown",
   "metadata": {},
   "source": [
    "Next, fit the model to our training data. We have already separated our data into 4 parts. Use those in your model."
   ]
  },
  {
   "cell_type": "code",
   "execution_count": 175,
   "metadata": {},
   "outputs": [
    {
     "name": "stderr",
     "output_type": "stream",
     "text": [
      "C:\\Users\\User\\anaconda3\\Lib\\site-packages\\sklearn\\linear_model\\_logistic.py:458: ConvergenceWarning: lbfgs failed to converge (status=1):\n",
      "STOP: TOTAL NO. of ITERATIONS REACHED LIMIT.\n",
      "\n",
      "Increase the number of iterations (max_iter) or scale the data as shown in:\n",
      "    https://scikit-learn.org/stable/modules/preprocessing.html\n",
      "Please also refer to the documentation for alternative solver options:\n",
      "    https://scikit-learn.org/stable/modules/linear_model.html#logistic-regression\n",
      "  n_iter_i = _check_optimize_result(\n"
     ]
    },
    {
     "data": {
      "text/html": [
       "<style>#sk-container-id-1 {color: black;background-color: white;}#sk-container-id-1 pre{padding: 0;}#sk-container-id-1 div.sk-toggleable {background-color: white;}#sk-container-id-1 label.sk-toggleable__label {cursor: pointer;display: block;width: 100%;margin-bottom: 0;padding: 0.3em;box-sizing: border-box;text-align: center;}#sk-container-id-1 label.sk-toggleable__label-arrow:before {content: \"▸\";float: left;margin-right: 0.25em;color: #696969;}#sk-container-id-1 label.sk-toggleable__label-arrow:hover:before {color: black;}#sk-container-id-1 div.sk-estimator:hover label.sk-toggleable__label-arrow:before {color: black;}#sk-container-id-1 div.sk-toggleable__content {max-height: 0;max-width: 0;overflow: hidden;text-align: left;background-color: #f0f8ff;}#sk-container-id-1 div.sk-toggleable__content pre {margin: 0.2em;color: black;border-radius: 0.25em;background-color: #f0f8ff;}#sk-container-id-1 input.sk-toggleable__control:checked~div.sk-toggleable__content {max-height: 200px;max-width: 100%;overflow: auto;}#sk-container-id-1 input.sk-toggleable__control:checked~label.sk-toggleable__label-arrow:before {content: \"▾\";}#sk-container-id-1 div.sk-estimator input.sk-toggleable__control:checked~label.sk-toggleable__label {background-color: #d4ebff;}#sk-container-id-1 div.sk-label input.sk-toggleable__control:checked~label.sk-toggleable__label {background-color: #d4ebff;}#sk-container-id-1 input.sk-hidden--visually {border: 0;clip: rect(1px 1px 1px 1px);clip: rect(1px, 1px, 1px, 1px);height: 1px;margin: -1px;overflow: hidden;padding: 0;position: absolute;width: 1px;}#sk-container-id-1 div.sk-estimator {font-family: monospace;background-color: #f0f8ff;border: 1px dotted black;border-radius: 0.25em;box-sizing: border-box;margin-bottom: 0.5em;}#sk-container-id-1 div.sk-estimator:hover {background-color: #d4ebff;}#sk-container-id-1 div.sk-parallel-item::after {content: \"\";width: 100%;border-bottom: 1px solid gray;flex-grow: 1;}#sk-container-id-1 div.sk-label:hover label.sk-toggleable__label {background-color: #d4ebff;}#sk-container-id-1 div.sk-serial::before {content: \"\";position: absolute;border-left: 1px solid gray;box-sizing: border-box;top: 0;bottom: 0;left: 50%;z-index: 0;}#sk-container-id-1 div.sk-serial {display: flex;flex-direction: column;align-items: center;background-color: white;padding-right: 0.2em;padding-left: 0.2em;position: relative;}#sk-container-id-1 div.sk-item {position: relative;z-index: 1;}#sk-container-id-1 div.sk-parallel {display: flex;align-items: stretch;justify-content: center;background-color: white;position: relative;}#sk-container-id-1 div.sk-item::before, #sk-container-id-1 div.sk-parallel-item::before {content: \"\";position: absolute;border-left: 1px solid gray;box-sizing: border-box;top: 0;bottom: 0;left: 50%;z-index: -1;}#sk-container-id-1 div.sk-parallel-item {display: flex;flex-direction: column;z-index: 1;position: relative;background-color: white;}#sk-container-id-1 div.sk-parallel-item:first-child::after {align-self: flex-end;width: 50%;}#sk-container-id-1 div.sk-parallel-item:last-child::after {align-self: flex-start;width: 50%;}#sk-container-id-1 div.sk-parallel-item:only-child::after {width: 0;}#sk-container-id-1 div.sk-dashed-wrapped {border: 1px dashed gray;margin: 0 0.4em 0.5em 0.4em;box-sizing: border-box;padding-bottom: 0.4em;background-color: white;}#sk-container-id-1 div.sk-label label {font-family: monospace;font-weight: bold;display: inline-block;line-height: 1.2em;}#sk-container-id-1 div.sk-label-container {text-align: center;}#sk-container-id-1 div.sk-container {/* jupyter's `normalize.less` sets `[hidden] { display: none; }` but bootstrap.min.css set `[hidden] { display: none !important; }` so we also need the `!important` here to be able to override the default hidden behavior on the sphinx rendered scikit-learn.org. See: https://github.com/scikit-learn/scikit-learn/issues/21755 */display: inline-block !important;position: relative;}#sk-container-id-1 div.sk-text-repr-fallback {display: none;}</style><div id=\"sk-container-id-1\" class=\"sk-top-container\"><div class=\"sk-text-repr-fallback\"><pre>LogisticRegression()</pre><b>In a Jupyter environment, please rerun this cell to show the HTML representation or trust the notebook. <br />On GitHub, the HTML representation is unable to render, please try loading this page with nbviewer.org.</b></div><div class=\"sk-container\" hidden><div class=\"sk-item\"><div class=\"sk-estimator sk-toggleable\"><input class=\"sk-toggleable__control sk-hidden--visually\" id=\"sk-estimator-id-1\" type=\"checkbox\" checked><label for=\"sk-estimator-id-1\" class=\"sk-toggleable__label sk-toggleable__label-arrow\">LogisticRegression</label><div class=\"sk-toggleable__content\"><pre>LogisticRegression()</pre></div></div></div></div></div>"
      ],
      "text/plain": [
       "LogisticRegression()"
      ]
     },
     "execution_count": 175,
     "metadata": {},
     "output_type": "execute_result"
    }
   ],
   "source": [
    "from sklearn.impute import SimpleImputer\n",
    "\n",
    "# Initialize a SimpleImputer to fill missing values with the mean\n",
    "imputer = SimpleImputer(strategy='mean')\n",
    "\n",
    "# Fit the imputer on the training data and transform both training and test data\n",
    "X_train = imputer.fit_transform(X_train)\n",
    "X_test = imputer.transform(X_test)\n",
    "\n",
    "# Initialize the Logistic Regression model\n",
    "logistic_model = LogisticRegression()\n",
    "\n",
    "# Fit the logistic regression model to the training data\n",
    "logistic_model.fit(X_train, y_train)"
   ]
  },
  {
   "cell_type": "markdown",
   "metadata": {},
   "source": [
    "finally, import `confusion_matrix` and `accuracy_score` from `sklearn.metrics` and fit our testing data. Assign the fitted data to `y_pred` and print the confusion matrix as well as the accuracy score"
   ]
  },
  {
   "cell_type": "code",
   "execution_count": 176,
   "metadata": {},
   "outputs": [
    {
     "name": "stdout",
     "output_type": "stream",
     "text": [
      "Confusion Matrix:\n",
      "[[303   3]\n",
      " [ 47   4]]\n",
      "\n",
      "Accuracy Score: 0.8599439775910365\n"
     ]
    }
   ],
   "source": [
    "from sklearn.metrics import confusion_matrix, accuracy_score\n",
    "\n",
    "# Using the fitted logistic_model to predict on the test data\n",
    "y_pred = logistic_model.predict(X_test)\n",
    "\n",
    "# Calculating the confusion matrix\n",
    "conf_matrix = confusion_matrix(y_test, y_pred)\n",
    "\n",
    "# Calculating the accuracy score\n",
    "accuracy = accuracy_score(y_test, y_pred)\n",
    "\n",
    "# Printing the confusion matrix and accuracy score\n",
    "print(\"Confusion Matrix:\")\n",
    "print(conf_matrix)\n",
    "print(\"\\nAccuracy Score:\", accuracy)"
   ]
  },
  {
   "cell_type": "markdown",
   "metadata": {},
   "source": [
    "What are your thoughts on the performance of the model? Write your conclusions below."
   ]
  },
  {
   "cell_type": "code",
   "execution_count": 33,
   "metadata": {},
   "outputs": [],
   "source": [
    "#A high accuracy score indicates that the model is performing well"
   ]
  },
  {
   "cell_type": "markdown",
   "metadata": {},
   "source": [
    "#### Our second algorithm is is K-Nearest Neighbors. \n",
    "\n",
    "Though is it not required, we will fit a model using the training data and then test the performance of the model using the testing data. Start by loading `KNeighborsClassifier` from scikit-learn and then initializing and fitting the model. We'll start off with a model where k=3."
   ]
  },
  {
   "cell_type": "code",
   "execution_count": 179,
   "metadata": {},
   "outputs": [
    {
     "data": {
      "text/html": [
       "<style>#sk-container-id-2 {color: black;background-color: white;}#sk-container-id-2 pre{padding: 0;}#sk-container-id-2 div.sk-toggleable {background-color: white;}#sk-container-id-2 label.sk-toggleable__label {cursor: pointer;display: block;width: 100%;margin-bottom: 0;padding: 0.3em;box-sizing: border-box;text-align: center;}#sk-container-id-2 label.sk-toggleable__label-arrow:before {content: \"▸\";float: left;margin-right: 0.25em;color: #696969;}#sk-container-id-2 label.sk-toggleable__label-arrow:hover:before {color: black;}#sk-container-id-2 div.sk-estimator:hover label.sk-toggleable__label-arrow:before {color: black;}#sk-container-id-2 div.sk-toggleable__content {max-height: 0;max-width: 0;overflow: hidden;text-align: left;background-color: #f0f8ff;}#sk-container-id-2 div.sk-toggleable__content pre {margin: 0.2em;color: black;border-radius: 0.25em;background-color: #f0f8ff;}#sk-container-id-2 input.sk-toggleable__control:checked~div.sk-toggleable__content {max-height: 200px;max-width: 100%;overflow: auto;}#sk-container-id-2 input.sk-toggleable__control:checked~label.sk-toggleable__label-arrow:before {content: \"▾\";}#sk-container-id-2 div.sk-estimator input.sk-toggleable__control:checked~label.sk-toggleable__label {background-color: #d4ebff;}#sk-container-id-2 div.sk-label input.sk-toggleable__control:checked~label.sk-toggleable__label {background-color: #d4ebff;}#sk-container-id-2 input.sk-hidden--visually {border: 0;clip: rect(1px 1px 1px 1px);clip: rect(1px, 1px, 1px, 1px);height: 1px;margin: -1px;overflow: hidden;padding: 0;position: absolute;width: 1px;}#sk-container-id-2 div.sk-estimator {font-family: monospace;background-color: #f0f8ff;border: 1px dotted black;border-radius: 0.25em;box-sizing: border-box;margin-bottom: 0.5em;}#sk-container-id-2 div.sk-estimator:hover {background-color: #d4ebff;}#sk-container-id-2 div.sk-parallel-item::after {content: \"\";width: 100%;border-bottom: 1px solid gray;flex-grow: 1;}#sk-container-id-2 div.sk-label:hover label.sk-toggleable__label {background-color: #d4ebff;}#sk-container-id-2 div.sk-serial::before {content: \"\";position: absolute;border-left: 1px solid gray;box-sizing: border-box;top: 0;bottom: 0;left: 50%;z-index: 0;}#sk-container-id-2 div.sk-serial {display: flex;flex-direction: column;align-items: center;background-color: white;padding-right: 0.2em;padding-left: 0.2em;position: relative;}#sk-container-id-2 div.sk-item {position: relative;z-index: 1;}#sk-container-id-2 div.sk-parallel {display: flex;align-items: stretch;justify-content: center;background-color: white;position: relative;}#sk-container-id-2 div.sk-item::before, #sk-container-id-2 div.sk-parallel-item::before {content: \"\";position: absolute;border-left: 1px solid gray;box-sizing: border-box;top: 0;bottom: 0;left: 50%;z-index: -1;}#sk-container-id-2 div.sk-parallel-item {display: flex;flex-direction: column;z-index: 1;position: relative;background-color: white;}#sk-container-id-2 div.sk-parallel-item:first-child::after {align-self: flex-end;width: 50%;}#sk-container-id-2 div.sk-parallel-item:last-child::after {align-self: flex-start;width: 50%;}#sk-container-id-2 div.sk-parallel-item:only-child::after {width: 0;}#sk-container-id-2 div.sk-dashed-wrapped {border: 1px dashed gray;margin: 0 0.4em 0.5em 0.4em;box-sizing: border-box;padding-bottom: 0.4em;background-color: white;}#sk-container-id-2 div.sk-label label {font-family: monospace;font-weight: bold;display: inline-block;line-height: 1.2em;}#sk-container-id-2 div.sk-label-container {text-align: center;}#sk-container-id-2 div.sk-container {/* jupyter's `normalize.less` sets `[hidden] { display: none; }` but bootstrap.min.css set `[hidden] { display: none !important; }` so we also need the `!important` here to be able to override the default hidden behavior on the sphinx rendered scikit-learn.org. See: https://github.com/scikit-learn/scikit-learn/issues/21755 */display: inline-block !important;position: relative;}#sk-container-id-2 div.sk-text-repr-fallback {display: none;}</style><div id=\"sk-container-id-2\" class=\"sk-top-container\"><div class=\"sk-text-repr-fallback\"><pre>KNeighborsClassifier(n_neighbors=3)</pre><b>In a Jupyter environment, please rerun this cell to show the HTML representation or trust the notebook. <br />On GitHub, the HTML representation is unable to render, please try loading this page with nbviewer.org.</b></div><div class=\"sk-container\" hidden><div class=\"sk-item\"><div class=\"sk-estimator sk-toggleable\"><input class=\"sk-toggleable__control sk-hidden--visually\" id=\"sk-estimator-id-2\" type=\"checkbox\" checked><label for=\"sk-estimator-id-2\" class=\"sk-toggleable__label sk-toggleable__label-arrow\">KNeighborsClassifier</label><div class=\"sk-toggleable__content\"><pre>KNeighborsClassifier(n_neighbors=3)</pre></div></div></div></div></div>"
      ],
      "text/plain": [
       "KNeighborsClassifier(n_neighbors=3)"
      ]
     },
     "execution_count": 179,
     "metadata": {},
     "output_type": "execute_result"
    }
   ],
   "source": [
    "# Separate the features (X) and the target variable (y)\n",
    "X = website_dummy.drop(columns=['Type'])  \n",
    "y = website_dummy['Type']  \n",
    "\n",
    "# Split the data into 80% training and 20% testing\n",
    "X_train, X_test, y_train, y_test = train_test_split(X, y, test_size=0.2, random_state=42)\n",
    "\n",
    "# Initialize a SimpleImputer to fill missing values with the mean\n",
    "imputer = SimpleImputer(strategy='mean')\n",
    "\n",
    "# Fit the imputer on the training data and transform both training and test data\n",
    "X_train = imputer.fit_transform(X_train)\n",
    "X_test = imputer.transform(X_test)\n",
    "\n",
    "# Initialize the K-Nearest Neighbors model with k=3\n",
    "knn_model = KNeighborsClassifier(n_neighbors=3)\n",
    "\n",
    "# Fit the KNN model to the training data\n",
    "knn_model.fit(X_train, y_train)"
   ]
  },
  {
   "cell_type": "markdown",
   "metadata": {},
   "source": [
    "To test your model, compute the predicted values for the testing sample and print the confusion matrix as well as the accuracy score."
   ]
  },
  {
   "cell_type": "code",
   "execution_count": 180,
   "metadata": {},
   "outputs": [
    {
     "name": "stdout",
     "output_type": "stream",
     "text": [
      "Confusion Matrix for KNN (k=3):\n",
      "[[299   7]\n",
      " [ 20  31]]\n",
      "\n",
      "Accuracy Score for KNN (k=3): 0.9243697478991597\n"
     ]
    }
   ],
   "source": [
    "# Using the fitted KNN model to predict on the test data\n",
    "y_pred_knn = knn_model.predict(X_test)\n",
    "\n",
    "# Calculating the confusion matrix for the KNN model\n",
    "conf_matrix_knn = confusion_matrix(y_test, y_pred_knn)\n",
    "\n",
    "# Calculating the accuracy score for the KNN model\n",
    "accuracy_knn = accuracy_score(y_test, y_pred_knn)\n",
    "\n",
    "\n",
    "print(\"Confusion Matrix for KNN (k=3):\")\n",
    "print(conf_matrix_knn)\n",
    "print(\"\\nAccuracy Score for KNN (k=3):\", accuracy_knn)"
   ]
  },
  {
   "cell_type": "markdown",
   "metadata": {},
   "source": [
    "#### We'll create another K-Nearest Neighbors model with k=5. \n",
    "\n",
    "Initialize and fit the model below and print the confusion matrix and the accuracy score."
   ]
  },
  {
   "cell_type": "code",
   "execution_count": 181,
   "metadata": {},
   "outputs": [
    {
     "name": "stdout",
     "output_type": "stream",
     "text": [
      "Confusion Matrix for KNN (k=5):\n",
      "[[300   6]\n",
      " [ 20  31]]\n",
      "\n",
      "Accuracy Score for KNN (k=5): 0.927170868347339\n"
     ]
    }
   ],
   "source": [
    "# Initialize the K-Nearest Neighbors model with k=5\n",
    "knn_model_k5 = KNeighborsClassifier(n_neighbors=5)\n",
    "\n",
    "# Fit the KNN model to the training data\n",
    "knn_model_k5.fit(X_train, y_train)\n",
    "\n",
    "# Using the fitted KNN model to predict on the test data\n",
    "y_pred_knn_k5 = knn_model_k5.predict(X_test)\n",
    "\n",
    "# Calculating the confusion matrix for the KNN model with k=5\n",
    "conf_matrix_knn_k5 = confusion_matrix(y_test, y_pred_knn_k5)\n",
    "\n",
    "# Calculating the accuracy score for the KNN model with k=5\n",
    "accuracy_knn_k5 = accuracy_score(y_test, y_pred_knn_k5)\n",
    "\n",
    "print(\"Confusion Matrix for KNN (k=5):\")\n",
    "print(conf_matrix_knn_k5)\n",
    "print(\"\\nAccuracy Score for KNN (k=5):\", accuracy_knn_k5)\n",
    "\n",
    "\n"
   ]
  },
  {
   "cell_type": "markdown",
   "metadata": {},
   "source": [
    "Did you see an improvement in the confusion matrix when increasing k to 5? Did you see an improvement in the accuracy score? Write your conclusions below."
   ]
  },
  {
   "cell_type": "code",
   "execution_count": 37,
   "metadata": {},
   "outputs": [],
   "source": [
    "#By comparing the confusion matrix results for k=3 and k=5, we can see if there \n",
    "#are fewer false positives and false negatives, which would indicate better classification performance.\n",
    "\n",
    "#The accuracy score slightly improved."
   ]
  },
  {
   "cell_type": "markdown",
   "metadata": {},
   "source": [
    "# Bonus Challenge - Feature Scaling\n",
    "\n",
    "Problem-solving in machine learning is iterative. You can improve your model prediction with various techniques (there is a sweetspot for the time you spend and the improvement you receive though). Now you've completed only one iteration of ML analysis. There are more iterations you can conduct to make improvements. In order to be able to do that, you will need deeper knowledge in statistics and master more data analysis techniques. In this bootcamp, we don't have time to achieve that advanced goal. But you will make constant efforts after the bootcamp to eventually get there.\n",
    "\n",
    "However, now we do want you to learn one of the advanced techniques which is called *feature scaling*. The idea of feature scaling is to standardize/normalize the range of independent variables or features of the data. This can make the outliers more apparent so that you can remove them. This step needs to happen during Challenge 6 after you split the training and test data because you don't want to split the data again which makes it impossible to compare your results with and without feature scaling. For general concepts about feature scaling, click [here](https://en.wikipedia.org/wiki/Feature_scaling). To read deeper, click [here](https://medium.com/greyatom/why-how-and-when-to-scale-your-features-4b30ab09db5e).\n",
    "\n",
    "In the next cell, attempt to improve your model prediction accuracy by means of feature scaling. A library you can utilize is `sklearn.preprocessing.RobustScaler` ([documentation](https://scikit-learn.org/stable/modules/generated/sklearn.preprocessing.RobustScaler.html)). You'll use the `RobustScaler` to fit and transform your `X_train`, then transform `X_test`. You will use logistic regression to fit and predict your transformed data and obtain the accuracy score in the same way. Compare the accuracy score with your normalized data with the previous accuracy data. Is there an improvement?"
   ]
  },
  {
   "cell_type": "code",
   "execution_count": 38,
   "metadata": {},
   "outputs": [],
   "source": [
    "# Your code here"
   ]
  }
 ],
 "metadata": {
  "kernelspec": {
   "display_name": "Python 3 (ipykernel)",
   "language": "python",
   "name": "python3"
  },
  "language_info": {
   "codemirror_mode": {
    "name": "ipython",
    "version": 3
   },
   "file_extension": ".py",
   "mimetype": "text/x-python",
   "name": "python",
   "nbconvert_exporter": "python",
   "pygments_lexer": "ipython3",
   "version": "3.11.7"
  }
 },
 "nbformat": 4,
 "nbformat_minor": 2
}
